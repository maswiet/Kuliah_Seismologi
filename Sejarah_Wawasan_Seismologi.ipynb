{
 "cells": [
  {
   "cell_type": "markdown",
   "metadata": {},
   "source": [
    "# Sejarah dan Wawasan Seismologi"
   ]
  },
  {
   "cell_type": "markdown",
   "metadata": {},
   "source": [
    "Dalam kuliah di minggu pertama ini, kami akan menjelaskan tentang sejarah dan wawasan mengenai seismologi. Mahasiswa diharapkan secara aktif dapat belajar untuk mengembangkan pengetahuan ini secara mandiri, melalui berbagai media informasi baik itu majalah ilmiah online semacam mesin pencari (google, bing, yahoo dll) yang dapat di set preferensinya khusus untuk mencari [berita tentang seismologi](https://www.bing.com/news/search?q=Seismology&qpvt=seismology+news&FORM=EWRE). Dari pengalaman ini diharapkan mahasiswa mendapat pengetahuan tentang manfaat seismologi dan perkembangannya, misalnya seismologi untuk membantu penyelamatan gajah dari perburuan liar, atau misalnya seismometer yang dapat terapung di laut.\n",
    "\n",
    "## Isi Perkuliahan\n",
    "\n",
    "Pada minggu pertama ini, akan dijelaskan meteri berikut:\n",
    "- Apakah Seismologi itu?\n",
    "- Perkembangan Teori Elastisitas\n",
    "- Pengamatan Gempabumi\n",
    "- Pengetahuan tentang interior bumi\n",
    "- Instalasi seismograf, Seismologi menjadi sebuah cabang ilmu\n",
    "\n",
    "## Apakah Seismologi itu?\n",
    "\n",
    "Sebagai bahan bacaan, Bab 1 dari buku *Introduction to seismology*, karangan Markus Bath, **Scope and History of Seismology**  dapat digunakan. Jika diperlukan, gunakan Google Translator untuk menerjemahkan ke dalam bahasa Indonesia, meskipun tidak sempurna. \n",
    "\n",
    "![chapter_1](./Gambar/translate_markus.png \"Logo Title Text 1\")\n"
   ]
  },
  {
   "cell_type": "markdown",
   "metadata": {},
   "source": [
    "Berdasarkan arti katanya, Seismologi berasal dari bahasa Yunani, yaitu *seismos* yang artinya gempabumi dan *logos* yaitu ilmu pengetahuan. Namun, meskipun dari arti kata tadi, seismologi dapat dimaknai sebagai ilmu tentang gempabumi, namun saat ini seismologi telah berkembang lebih luas, mancakup aspek instrumentasi, teknologi informasi, statistika seismologi, perambatan gelombang gempa serta interaksi dengan medium yang diantaranya dapat digunakan untuk mempelajari struktur bagian dalam bumi. Lebih *cool* lagi, seismologi dapat dipakai untuk menentukan lokasi penculikan ..\n",
    "\n",
    "[![Find The Loci](https://img.youtube.com/vi/HdWpg6rq85o/0.jpg)](https://www.youtube.com/watch?v=HdWpg6rq85o \"Find the Loci\")\n"
   ]
  },
  {
   "cell_type": "markdown",
   "metadata": {},
   "source": [
    "Bath mendefinisikan seismologi dalam 2 jalur, yaitu:\n",
    "1. Seismologi adalah Ilmu tentang gempabumi, termasuk mempelajari sifat fisika dari interior bumi (perambatan gelombang seismik melalui medium bumi)\n",
    "2. Seismologi sebagai ilmu yang mempelajari penjalaran gelombang elastik (gelombang seismik), meliputi sumbernya (gempa, ledakan, tumbukan meteor, dll), perambatan melalui interior bumi, dan perekaman datanya termasuk interpretasi seismogram.\n",
    "\n",
    "Seismologi sebagai sains umumnya bekerja dalam aspek gempabumi, atau seismologi gunungapi. Seismologi sebagai ilmu terapan, sangat populer digunakan untuk keperluan eksplorasi, dan berkembang cukup pesat dalam cabang ilmu *Exploration Seismology*"
   ]
  },
  {
   "cell_type": "markdown",
   "metadata": {},
   "source": [
    "Seismologi merupakan bagian dari Ilmu Geofisika, dimana Geofisika sendiri adalah penerapan ilmu fisika pada bumi, baik itu di bagian bumi yang padat (*solid earth*), lautan, atmosfer dan ionosfer. Khusus Program Studi Geofisika di Departemen Fisika UGM, mengkhususkan diri pada pembelajaran di bidang Geofisika Bumi Padat atau *solid earth geophysics*."
   ]
  },
  {
   "cell_type": "markdown",
   "metadata": {},
   "source": [
    "Solid Earth Geophysics terdiri dari bebarapa spesialisasi, diantaranya:\n",
    "1. Seismologi\n",
    "2. Vulkanologi (bagian dari ilmu Geologi juga): gunungapi, hot spring dll\n",
    "3. Geomagnetik : kemagnetan bumi, medan magnetik bumi dll\n",
    "4. Geoelektrik : sifat kelistrikan bumi\n",
    "5. Tektonofisika (bagian dari ilmu Geologi): Ilmu fisika yang diterapkan pada proses geologi\n",
    "6. Gravimetri  (bagian dari ilmu Geodesi): pengukuran gravitasi dan interpretasinya\n",
    "7. Geothermal : kondisi termperatur di dalam bumi\n",
    "8. Geokosmologi: asal usul bumi\n",
    "9. Geokronologi : dating dari peristiwa yang terjadi dalam kurun sejarah bumi"
   ]
  },
  {
   "cell_type": "markdown",
   "metadata": {},
   "source": [
    "Atau dalam pembagian bidang ilmu kebumian, yang ditunjukkan dalam gambar (Bath, 1979)\n",
    "![tabel bath](./Gambar/Bagan_Solid_earth.png \"Tabel Bath\")"
   ]
  },
  {
   "cell_type": "markdown",
   "metadata": {},
   "source": [
    "## Perkembangan Teori Elastisitas\n",
    "Capaian penting dalam sejarah perkembangan teori elastisitas dan Seismologi\n",
    "\n",
    "| Tahun        | Tokoh           | Temuan  |\n",
    "| ------------- |-------------|-----|\n",
    "| 1638      | Gallileo | Deformasi balok yang diberi beban ([Problem Gallileo](https://themultidisciplinarian.com/2013/10/29/just-a-moment-galileo/)) |\n",
    "| 1660      | Hooke      |  Kesebandingan antara stress dan strain (Hukum Hooke) |\n",
    "| 1799 | Cavendish      |   Penentuan densitas rerata bumi |\n",
    "| 1821 | Navier      |   Persamaan umum elastisitas |\n",
    "| 1822 | Cauchy      |   Membangun dasar teori elastisitas|\n",
    "| 1830 | Poisson      |   Gelombang Longitudinal dan Transversal, vibrasi pada bola |\n",
    "| 1845 | Stokes      |   Modulus Bulk dan Modulus geser |\n",
    "| 1860 | Mallet      |   Peta gempa global |\n",
    "| 1874| de Rossi      |   Penggunaan skala intensitas gempa pertama |\n",
    "| 1878 | Hoernes      |   Klasifikasi gempabumi |\n",
    "| 1880 | Gray, Milne, Ewing      |   Konstruksi Seismograf |\n",
    "| 1887 | Rayleigh      |   Gelombang permukaan tipe retrograde eliptik |\n",
    "| 1888 | Schmidt      |   Perambatan gelombang di dalam bumi |\n",
    "| 1897 | Wiechert      |   Hipotesis Inti bumi berupa besi |\n",
    "| 1899 | Knott      |   Pemantulan dan refraksi gelombang elastik |\n",
    "| 1900 | Wiechert      |   Konstruksi Seismograf Wiechert |\n",
    "| 1900 | Montessus de Ballore, Milne      |   Peta seismisitas global |\n",
    "| 1906 | Odham      |   Inti bumi berupa besi terbukti secara seismologi |\n",
    "| 1906 | Galitzin      |   Konstruksi seismograf Galitzin, elektromagnetik seismograf |\n",
    "| 1906 | Reid      |   Teori bingkas elastik, diakui sampai saat ini sebagai mekanisme gempa |\n",
    "| 1909 | Mohorovicic      |   Kerak bumi dibungkus diskontinuitas yang tajam, diskontinuitas Mohorovicic |\n",
    "| 1911 | Love     |   Penemu gelombang permukaan tipe Love |\n",
    "| 1913 | Guttenberg      |   Penemu kedalaman outer core 2900 km dari permukaan |\n",
    "| 1922 | Turner     |   Indikasi gempa dalam |\n",
    "| 1928 | Wadati      |   Gempa dalam ditemukan |\n",
    "| 1935 | Benioff      |   Konstruksi seismograf strain |\n",
    "| 1935 | Richter      |   Penemu skala magnitudo gempa |\n",
    "| 1936 |  Lehmann      |   Penemu inti bumi bagian dalam |\n"
   ]
  },
  {
   "cell_type": "markdown",
   "metadata": {},
   "source": [
    "## Pengamatan Gempa\n",
    "\n",
    "Meskipun gempabumi telah dialami sejak dahulu, upaya untuk mengkaji gempabumi secara ilmiah mulai dirintis sejak pertengahan abad ke 18. Salah satu gempa yang menjadi tonggak penelitian seismologi adalah [Gempa dan Tsunami tanggal 1 November 1755](https://en.wikipedia.org/wiki/1755_Lisbon_earthquake) yang menghancurkan kota Lisbon, Portugal. Kemudian, gempa di Calabria, Italia tahun 1783 diteliti oleh sebuah komisi gempa yang dibentuk oleh pemerintah. Gempa di Cutch India, 1819 adalah gempa dengan fenomena patahan yang pertama teramati. [Gempa di Naples 1857](https://en.wikipedia.org/wiki/1857_Basilicata_earthquake) adalah gempa pertama yang diteliti secara geofisika.\n",
    "\n",
    "Pengamatan gempa jaman dahulu, pada saat belum ada instrumen perekam gempa (seismometer), dilakukan secara kualitatif, yaitu melihat efek sekunder, yaitu dampak yang ditimbulkan pada bangunan, atau pada topografi. Saat itu, upaya untuk melihat efek primernya misalnya mengenai patahan yang terjadi belum banyak diamati.Setelah itu semakin banyak pengamatan di lapangan yang mengaitkan kejadian gempa dengan aktifitas sesar-sesar, misalnya yang dilaporkan oleh para pengamat setelah gempa Owari di Jepang tahun 1891 dan gempa San Fransisco 1908. Kita tentu ingat gambar yang sangat terkenal mengenai pagar pembatas kebun di Amerika yang bergeser akibat sesar ini.\n",
    "\n",
    "![pagar_geser](https://insider.si.edu/wp-content/uploads/2011/09/Figure-4.jpg)\n",
    "\n",
    "Dari peristiwa gempa di San Fransisco inilah kemudian lahir sebuah teori sumber gempa yang dikenal dengan teori loncatan "
   ]
  },
  {
   "cell_type": "markdown",
   "metadata": {},
   "source": [
    "[![Everything Is AWESOME](https://img.youtube.com/vi/StTqXEQ2l-Y/0.jpg)](https://www.youtube.com/watch?v=StTqXEQ2l-Y \"Everything Is AWESOME\")"
   ]
  },
  {
   "cell_type": "code",
   "execution_count": null,
   "metadata": {},
   "outputs": [],
   "source": []
  }
 ],
 "metadata": {
  "kernelspec": {
   "display_name": "Python 3",
   "language": "python",
   "name": "python3"
  },
  "language_info": {
   "codemirror_mode": {
    "name": "ipython",
    "version": 3
   },
   "file_extension": ".py",
   "mimetype": "text/x-python",
   "name": "python",
   "nbconvert_exporter": "python",
   "pygments_lexer": "ipython3",
   "version": "3.7.0"
  }
 },
 "nbformat": 4,
 "nbformat_minor": 2
}
