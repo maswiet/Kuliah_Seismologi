{
 "cells": [
  {
   "cell_type": "markdown",
   "metadata": {},
   "source": [
    "# Gelombang Seismik\n",
    "\n",
    "Gelombang seismik adalah setiap getaran yang terekam di seismogram, kecuali alatnya tersenggol. \n",
    "\n",
    "![](Gambar/Using+Seismograms.jpg)\n",
    "\n",
    "Gelombang ini merupakan respon dari bumi akibat adanya sumber gempa berupa pergeseran patahan (rupture), atau ledakan atau gangguan lainnya. Misalnya getaran akibat kapal Costa Concordia di Italia yang menabrak karang dibawah ini.\n",
    "\n",
    "![](http://2.bp.blogspot.com/-vv5qVD3WL2c/Tx2ifOhGUzI/AAAAAAAAANg/AxDSdDRwnDk/s1600/Concordia_filtered.jpg)\n",
    "\n",
    "Cerita selengkapnya silahkan mengikuti tautan [ini](http://tersiscio.blogspot.com/2012/01/seismic-wake-of-costa-concordia.html).\n",
    "\n",
    "Atau ada orang bermain-main dengan senjata Nuklir ^_^\n",
    "\n",
    "![](https://ds.iris.edu/media/specialevent/2017/09/03/2017-north-korean-nuclear-test/Aderhold_2017NKTest_17_09_03.png)"
   ]
  },
  {
   "cell_type": "markdown",
   "metadata": {},
   "source": [
    "Gelombang seismik dibedakan menjadi 2 tipe utama, yaitu\n",
    "- Gelombang Badan (Body Waves)\n",
    "- Gelombang Permukaan (Surface Waves)"
   ]
  },
  {
   "cell_type": "markdown",
   "metadata": {},
   "source": [
    "# Gelombang Badan\n",
    "Merambat dibagian dalam \"tubuh\" bumi, yang terdiri ata 2 tipe penjalaran, yaitu\n",
    "1. Gelombang longitudinal, Gelombang-P (pressure wave)\n",
    "2. Gelombang transversal, Gelombang-S, (shear wave)"
   ]
  },
  {
   "cell_type": "markdown",
   "metadata": {},
   "source": [
    "# Gelombang Permukaan\n",
    "\n",
    "Merambat sepanjang permukaan bumi. Namun ingat bahwa berbicara bumi, maka permukaannya adalah kulit bumi atau kerak bumi. Jadi gelombang permukaan merambat di sepanjang kerak bumi dan sedikit di bagian atas mantel bumi."
   ]
  },
  {
   "cell_type": "markdown",
   "metadata": {},
   "source": [
    "Berdasarkan kecepatannya, maka urutan kedatangan gelombang seismik adalah P-S-L-R.\n",
    "\n",
    "![](Gambar/part.png)"
   ]
  },
  {
   "cell_type": "markdown",
   "metadata": {},
   "source": [
    "Dalam rangka mempelajari bagian dalam bumi, ada beberapa asumsi yang harus dilakukan agar permasalahan menjadi lebih sederhana, diantaranya:\n",
    "    1. Perpindahan relatif antara partikel-partikel penyusun batuan adalah sangat-sangat kecil (infinitesimal)\n",
    "    2. Material/batuan adalah elastik murni (pure elastic), stress memiliki hubungan linear dengan strain menurut Hukum Hooke.\n",
    "    3. Material/batuan adalah isotrop, yaitu parameter elastiknya sama ke segala arah\n",
    "    4. Gaya dari luar seperti gravitasi, rotasi, gesekan dlsb diabaikan.\n",
    "    \n",
    "Perlu diingat bahwa pada kenyataannya, bumi tidak seperti apa yang diasumsikan diatas, sehingga perjalanan untuk mengungkap gelombang seismik di dalam bumi masih sangat panjang."
   ]
  },
  {
   "cell_type": "markdown",
   "metadata": {},
   "source": [
    "![](Gambar/elas.png)"
   ]
  },
  {
   "cell_type": "markdown",
   "metadata": {},
   "source": [
    "Gelombang seismik terjadi saat ada perubahan strain yang cepat \n",
    "\n",
    "![](Gambar/seis.png)"
   ]
  },
  {
   "cell_type": "markdown",
   "metadata": {},
   "source": [
    "## Penjalaran gelombang seismik\n",
    "\n",
    "![](Gambar/sur.png)"
   ]
  },
  {
   "cell_type": "markdown",
   "metadata": {},
   "source": [
    "Pada teori elastisitas sederhana, sifat elastik batuan dikarakteristikkan ke dalam 2 parameter independen, yaitu\n",
    "- modulus bulk (incompresibility modulus), $k$\n",
    "- modulus shear (modulus of rigidity), $\\mu$"
   ]
  },
  {
   "cell_type": "markdown",
   "metadata": {},
   "source": [
    "Jika masajenis batuan dinyatakan dalam $\\rho$, maka kecepatan gelombang-P dan gelombang-S diberikan oleh persamaan:\n",
    "\n",
    "![](Gambar/rumus.png)"
   ]
  },
  {
   "cell_type": "markdown",
   "metadata": {},
   "source": [
    "Untuk kerak dan mantel, $k=5/3 \\mu$ (rasio Poisson 1/4). Dari hubungan ini, maka vp:vs = $\\sqrt 3 $ :1 "
   ]
  },
  {
   "cell_type": "markdown",
   "metadata": {},
   "source": [
    "Gelombang Rayleig = 0,92 Vs"
   ]
  },
  {
   "cell_type": "markdown",
   "metadata": {},
   "source": [
    "Selain Hukum Hook, relasi penting dalam seismologi adalah Hukum Snellius, $\\sin i / v = $ konstan"
   ]
  },
  {
   "cell_type": "markdown",
   "metadata": {},
   "source": [
    "Dengan $i$ adalah sudut datang, dan $v$ adalah kecepatan medium"
   ]
  },
  {
   "cell_type": "markdown",
   "metadata": {},
   "source": [
    "Untuk bumi bulat, Hukum Snell menjadi $\\frac{r \\sin i}{v}$=konstan sepanjang penjalaran"
   ]
  },
  {
   "cell_type": "markdown",
   "metadata": {},
   "source": [
    "![](Gambar/psv.png)"
   ]
  },
  {
   "cell_type": "code",
   "execution_count": null,
   "metadata": {},
   "outputs": [],
   "source": []
  }
 ],
 "metadata": {
  "kernelspec": {
   "display_name": "Python 3",
   "language": "python",
   "name": "python3"
  },
  "language_info": {
   "codemirror_mode": {
    "name": "ipython",
    "version": 3
   },
   "file_extension": ".py",
   "mimetype": "text/x-python",
   "name": "python",
   "nbconvert_exporter": "python",
   "pygments_lexer": "ipython3",
   "version": "3.7.0"
  }
 },
 "nbformat": 4,
 "nbformat_minor": 2
}
