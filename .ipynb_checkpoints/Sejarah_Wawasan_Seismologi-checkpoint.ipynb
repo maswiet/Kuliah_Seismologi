{
 "cells": [
  {
   "cell_type": "markdown",
   "metadata": {},
   "source": [
    "# Sejarah dan Wawasan Seismologi"
   ]
  },
  {
   "cell_type": "markdown",
   "metadata": {},
   "source": [
    "Dalam kuliah di minggu pertama ini, kami akan menjelaskan tentang sejarah dan wawasan mengenai seismologi. Mahasiswa diharapkan secara aktif dapat belajar untuk mengembangkan pengetahuan ini secara mandiri, melalui berbagai media informasi baik itu majalah ilmiah online semacam mesin pencari (google, bing, yahoo dll) yang dapat di set preferensinya khusus untuk mencari [berita tentang seismologi](https://www.bing.com/news/search?q=Seismology&qpvt=seismology+news&FORM=EWRE). Dari pengalaman ini diharapkan mahasiswa mendapat pengetahuan tentang manfaat seismologi dan perkembangannya, misalnya seismologi untuk membantu penyelamatan gajah dari perburuan liar, atau misalnya seismometer yang dapat terapung di laut.\n",
    "\n",
    "## Isi Perkuliahan\n",
    "\n",
    "Pada minggu pertama ini, akan dijelaskan meteri berikut:\n",
    "- Apakah Seismologi itu?\n",
    "- Perkembangan Teori Elastisitas\n",
    "- Pengamatan Gempabumi\n",
    "- Pengetahuan tentang interior bumi\n",
    "- Instalasi seismograf, Seismologi menjadi sebuah cabang ilmu\n",
    "\n",
    "## Apakah Seismologi itu?\n",
    "\n",
    "Sebagai bahan bacaan, Bab 1 dari buku *Introduction to seismology*, karangan Markus Bath, **Scope and History of Seismology**  dapat digunakan. Jika diperlukan, gunakan Google Translator untuk menerjemahkan ke dalam bahasa Indonesia, meskipun tidak sempurna. \n",
    "\n",
    "![chapter_1](./Gambar/translate_markus.png \"Logo Title Text 1\")\n"
   ]
  },
  {
   "cell_type": "markdown",
   "metadata": {},
   "source": [
    "Berdasarkan arti katanya, Seismologi berasal dari bahasa Yunani, yaitu *seismos* yang artinya gempabumi dan *logos* yaitu ilmu pengetahuan. Namun, meskipun dari arti kata tadi, seismologi dapat dimaknai sebagai ilmu tentang gempabumi, namun saat ini seismologi telah berkembang lebih luas, mancakup aspek instrumentasi, teknologi informasi, statistika seismologi, perambatan gelombang gempa serta interaksi dengan medium yang diantaranya dapat digunakan untuk mempelajari struktur bagian dalam bumi. Lebih *cool* lagi, seismologi dapat dipakai untuk menentukan lokasi penculikan ..\n",
    "\n",
    "[![Find The Loci](https://img.youtube.com/vi/HdWpg6rq85o/0.jpg)](https://www.youtube.com/watch?v=HdWpg6rq85o \"Find the Loci\")\n"
   ]
  },
  {
   "cell_type": "markdown",
   "metadata": {},
   "source": [
    "Bath mendefinisikan seismologi dalam 2 jalur, yaitu:\n",
    "1. Seismologi adalah Ilmu tentang gempabumi, termasuk mempelajari sifat fisika dari interior bumi (perambatan gelombang seismik melalui medium bumi)\n",
    "2. Seismologi sebagai ilmu yang mempelajari penjalaran gelombang elastik (gelombang seismik), meliputi sumbernya (gempa, ledakan, tumbukan meteor, dll), perambatan melalui interior bumi, dan perekaman datanya termasuk interpretasi seismogram.\n",
    "\n",
    "Seismologi sebagai sains umumnya bekerja dalam aspek gempabumi, atau seismologi gunungapi. Seismologi sebagai ilmu terapan, sangat populer digunakan untuk keperluan eksplorasi, dan berkembang cukup pesat dalam cabang ilmu *Exploration Seismology*"
   ]
  },
  {
   "cell_type": "markdown",
   "metadata": {},
   "source": [
    "Seismologi merupakan bagian dari Ilmu Geofisika, dimana Geofisika sendiri adalah penerapan ilmu fisika pada bumi, baik itu di bagian bumi yang padat (*solid earth*), lautan, atmosfer dan ionosfer. Khusus Program Studi Geofisika di Departemen Fisika UGM, mengkhususkan diri pada pembelajaran di bidang Geofisika Bumi Padat atau *solid earth geophysics*."
   ]
  },
  {
   "cell_type": "markdown",
   "metadata": {},
   "source": [
    "Solid Earth Geophysics terdiri dari bebarapa spesialisasi, diantaranya:\n",
    "1. Seismologi\n",
    "2. Vulkanologi (bagian dari ilmu Geologi juga): gunungapi, hot spring dll\n",
    "3. Geomagnetik : kemagnetan bumi, medan magnetik bumi dll\n",
    "4. Geoelektrik : sifat kelistrikan bumi\n",
    "5. Tektonofisika (bagian dari ilmu Geologi): Ilmu fisika yang diterapkan pada proses geologi\n",
    "6. Gravimetri  (bagian dari ilmu Geodesi): pengukuran gravitasi dan interpretasinya\n",
    "7. Geothermal : kondisi termperatur di dalam bumi\n",
    "8. Geokosmologi: asal usul bumi\n",
    "9. Geokronologi : dating dari peristiwa yang terjadi dalam kurun sejarah bumi"
   ]
  },
  {
   "cell_type": "markdown",
   "metadata": {},
   "source": [
    "Atau dalam pembagian bidang ilmu kebumian, yang ditunjukkan dalam gambar (Bath, 1979)\n",
    "![tabel bath](./Gambar/Bagan_Solid_earth.png \"Tabel Bath\")"
   ]
  },
  {
   "cell_type": "markdown",
   "metadata": {},
   "source": [
    "## Perkembangan Teori Elastisitas\n",
    "Capaian penting dalam sejarah perkembangan teori elastisitas dan Seismologi\n",
    "\n",
    "| Tahun        | Tokoh           | Temuan  |\n",
    "| ------------- |-------------|-----|\n",
    "| 1638      | Gallileo | Deformasi balok yang diberi beban ([Problem Gallileo](https://themultidisciplinarian.com/2013/10/29/just-a-moment-galileo/)) |\n",
    "| 1660      | Hooke      |  Kesebandingan antara stress dan strain (Hukum Hooke) |\n",
    "| 1799 | Cavendish      |   Penentuan densitas rerata bumi |\n",
    "| 1821 | Navier      |   Persamaan umum elastisitas |\n",
    "| 1822 | Cauchy      |   Membangun dasar teori elastisitas|\n",
    "| 1830 | Poisson      |   Gelombang Longitudinal dan Transversal, vibrasi pada bola |\n",
    "| 1845 | Stokes      |   Modulus Bulk dan Modulus geser |\n",
    "| 1860 | Mallet      |   Peta gempa global |\n",
    "| 1874| de Rossi      |   Penggunaan skala intensitas gempa pertama |\n",
    "| 1878 | Hoernes      |   Klasifikasi gempabumi |\n",
    "| 1880 | Gray, Milne, Ewing      |   Konstruksi Seismograf |\n",
    "| 1887 | Rayleigh      |   Gelombang permukaan tipe retrograde eliptik |\n",
    "| 1888 | Schmidt      |   Perambatan gelombang di dalam bumi |\n",
    "| 1897 | Wiechert      |   Hipotesis Inti bumi berupa besi |\n",
    "| 1899 | Knott      |   Pemantulan dan refraksi gelombang elastik |\n",
    "| 1900 | Wiechert      |   Konstruksi Seismograf Wiechert |\n",
    "| 1900 | Montessus de Ballore, Milne      |   Peta seismisitas global |\n",
    "| 1906 | Odham      |   Inti bumi berupa besi terbukti secara seismologi |\n",
    "| 1906 | Galitzin      |   Konstruksi seismograf Galitzin, elektromagnetik seismograf |\n",
    "| 1906 | Reid      |   Teori bingkas elastik, diakui sampai saat ini sebagai mekanisme gempa |\n",
    "| 1909 | Mohorovicic      |   Kerak bumi dibungkus diskontinuitas yang tajam, diskontinuitas Mohorovicic |\n",
    "| 1911 | Love     |   Penemu gelombang permukaan tipe Love |\n",
    "| 1913 | Guttenberg      |   Penemu kedalaman outer core 2900 km dari permukaan |\n",
    "| 1922 | Turner     |   Indikasi gempa dalam |\n",
    "| 1928 | Wadati      |   Gempa dalam ditemukan |\n",
    "| 1935 | Benioff      |   Konstruksi seismograf strain |\n",
    "| 1935 | Richter      |   Penemu skala magnitudo gempa |\n",
    "| 1936 |  Lehmann      |   Penemu inti bumi bagian dalam |\n"
   ]
  },
  {
   "cell_type": "markdown",
   "metadata": {},
   "source": [
    "## Pengamatan Gempa\n",
    "\n",
    "Meskipun gempabumi telah dialami sejak dahulu, upaya untuk mengkaji gempabumi secara ilmiah mulai dirintis sejak pertengahan abad ke 18. Salah satu gempa yang menjadi tonggak penelitian seismologi adalah [Gempa dan Tsunami tanggal 1 November 1755](https://en.wikipedia.org/wiki/1755_Lisbon_earthquake) yang menghancurkan kota Lisbon, Portugal. Kemudian, gempa di Calabria, Italia tahun 1783 diteliti oleh sebuah komisi gempa yang dibentuk oleh pemerintah. Gempa di Cutch India, 1819 adalah gempa dengan fenomena patahan yang pertama teramati. [Gempa di Naples 1857](https://en.wikipedia.org/wiki/1857_Basilicata_earthquake) adalah gempa pertama yang diteliti secara geofisika.\n",
    "\n",
    "Pengamatan gempa jaman dahulu, pada saat belum ada instrumen perekam gempa (seismometer), dilakukan secara kualitatif, yaitu melihat efek sekunder, yaitu dampak yang ditimbulkan pada bangunan, atau pada topografi. Saat itu, upaya untuk melihat efek primernya misalnya mengenai patahan yang terjadi belum banyak diamati.Setelah itu semakin banyak pengamatan di lapangan yang mengaitkan kejadian gempa dengan aktifitas sesar-sesar, misalnya yang dilaporkan oleh para pengamat setelah gempa Owari di Jepang tahun 1891 dan gempa San Fransisco 1908. Kita tentu ingat gambar yang sangat terkenal mengenai pagar pembatas kebun di Amerika yang bergeser akibat sesar ini.\n",
    "\n",
    "![pagar_geser](https://insider.si.edu/wp-content/uploads/2011/09/Figure-4.jpg)\n",
    "\n",
    "Dari peristiwa gempa di San Fransisco inilah kemudian lahir sebuah teori sumber gempa yang dikenal dengan teori loncatan elastik (elastic rebound theory), oleh Reid, yang masih valid sampai saat ini.\n",
    "\n",
    "Pada tahun 1878, seorang ahli gempa dari Jerman R Hoernes mengusulkan klasifikasi gempa bumi, yaitu :\n",
    "1. Gempabumi runtuhan (*Collapse earthquakes*), yang disebabkan oleh runtuhnya lubang-lubang didalam bumi, seperti gua, tambang dan sebagainya.\n",
    "2. Gempabumi volkanik (*Volcanic earthquakes*)\n",
    "3. Gempabumi tektonik (*Tectonic earthquakes*)\n",
    "\n",
    "Berdasarkan pengamatan di lapangan, ternyata banyak ditemukan bahwa efek yang ditimbulkan oleh getaran gempabumi lebih kuat pada daerah dengan tanah yang lunak dibandingkan dengan daerah dengan tanah yang keras apalagi kering. Dari pengukuran dengan seismometer ternyata memang amplitudo getaran pada saat gempa akan lebih besar.\n",
    "\n",
    "![kotamexico](https://www.scor.com/sites/default/files/image_bis2.png)\n",
    "\n",
    "Dari fenomena inilah dikembangkan metode rasio spektrum komponen vertikal terhadap komponen horizontal(*Horizontal to Vertical Spectral Ratio*, HVSR) yang terkenal sekali di Indonesia. Perlu diketahui bahwa pengukuran secara langsung dengan akselerometer akan jauh lebih memberikan manfaat saintifik ketimbang melakukan pengukuran HVSR dimana-mana, karena respons dari akselerometer tersebut menjadi basis untuk studi seismic hazard di suatu wilayah. \n",
    "\n",
    "Untuk menyatakan efek gempabumi secara kuantitatif (sehingga dinamakan observasi makroseismik), De Rossi dari Italia memperkenalkan skala intensitas pada tahun 1870-an. Pada tahun 1881, Forel dari Swis memperkenalkan skala yang serupa; dan setelah itu mereka menggabungkannya menjadi skala Rossi-Forel. Dengan menggambarkan harga intensitas gempa ini diatas peta, akan diperoleh peta isoseismal (isoseismal adalah garis yang menghubungkan titik-titik yang berintensitas sama). Berdasar peta isoseismal ini magnitude dan kedalaman gempa dapat diperkirakan, yaitu bila intensitas turun dengan cepat terhadap jarak maka gempanya adalah dangkal.\n",
    "\n",
    "Di Indonesia, pencatatan gempabumi sudah dilakukan sejak jaman dahulu kala. Tercatat dalam beberapa manuskript kuno kejadian gempabumi di Indonesia, namun karena keterbatasan kata-kata dalam menjelaskan fenomena alam, terkadang masih rancu antara gempabumi, letusan gunungapi atau tanah longsor, karena semua menggunakan kata \"Guntur\". Baru pada tahun 1538 catatan pertama tentang gempabumi yang terjadi di Ternate ditulis. Seorang pencatat bernama Joh Sigism Wurffbain secara tertib mencatat kejadian gempabumi di kepulauan Banda dari kurun waktu 1632 - 1638. Data-data gempa tersebut kemudian dikumpulkan oleh Wichmann menjadi 2 jilid buku, Gempabumi di Indonesia sampai tahun 1857 dan Gempabumi di Indonesia dari tahun 1858 - 1877. Setelah itu, berkembang jawatan pengamatan Magnetik dan Meteorologi oleh Belanda (Magnetisch en Meteorologisch Observatorium) sejak tahun 1879. Lembaga inilah yang kemudian menjadi cikal bakal BMKG saat ini. Selengkapnya dapat dilihat pada situs BMKG mengenai [Sejarah berdirinya](https://www.bmkg.go.id/profil/?p=sejarah&lang=ID).    "
   ]
  },
  {
   "cell_type": "markdown",
   "metadata": {},
   "source": [
    "# Pengetahuan tentang Interior bumi (Dari Diktat Pak Waluyo)\n",
    "\n",
    "Pada mulanya, dalam waktu yang cukup lama, pengetahuan tentang bagian dalam bumi merupakan obyek spekulasi dan imajinasi bebas. Pendapat pertama yang cukup ilmiah boleh jadi yang berdasarkan pengamatan pada lava cair yang keluar dari gunungapi yang sampai pada kesimpulan bahwa bumi bagian dalam adalah panas, membara, dan meleleh. Pendapat ini mendapat dukungan karena sebelumnya telah diketahui bahwa temperatur di dalam bumi naik dengan bertambahnya kedalaman. Namun Poisson tidak percaya bahwa pusat bumi berupa gas dengan temperatur yang mencapai ratusan ribu derajat, dan mengingatkan bahwa suhu tersebut tidak bisa diperkirakan hanya berdasar extrapolasi suhu bumi yang diukur di dekat permukaan. Dengan menggunakan hasil observasi efek pasang-surut terhadap bumi padat, Lord Kelvin, pada tahun 1863 mengklaim bahwa bumi secara keseluruhan adalah lebih keras (rigid) dari pada kaca. Pendapat ini mendapatkan dukungan setelahnya, namun sebagai perbandingan bukanlah kaca tetapi baja.\n",
    "Sejak awal abad ke 18, perkiraan harga densitas rata-rata bumi telah mencapai harga yang mendekati kenyataan, antara lain oleh ilmuwan Inggris, Lord Cavendis pada tahun 1799. Karena harga densitas ini melebihi densitas batuan dipermukaan, maka kesimpulannya adalah bahwa densitas bumi harus bertambah dengan kedalaman dan diasumsikan mencapai maksimum di pusatnya. Pada tahun 1897, geofisikawan Jerman, Wiechert menemukan berdasar perhitungan teoritis bahwa bagian dalam bumi terdiri dari mantel (silikat) dengan ketebalan kurang lebih 1500 km, yang melingkupi inti besi. Ini adalah usulan yang pertama sehingga dikenal sebagai hipotesis inti besi. Adanya inti bumi kemudian telah dikonfirmasikan oleh Oldham, seismologist Inggris pada tahun 1906. Kedalaman core telah direvisi menjadi harganya pada saat ini (2900 km) oleh geofisikawan Jerman/Amerika, Guttenberg pada tahun 1913. \n",
    "\n"
   ]
  },
  {
   "cell_type": "markdown",
   "metadata": {},
   "source": [
    "# Instalasi Seismograf (Seismologi menjadi sains)\n",
    "\n",
    "Pada subbab 1.3 telah disinggung bahwa pengamatan gempa dapat dilakukan secara kualitatif dengan menggunakan skala intenitas sejak skala ini diperkenalkan pada tahun 1870-an, namun laporan deskriptif murni yang ada masih terlalu jauh dari dasar-dasar matematis teori elastisitas untuk dapat menyatukan dua disiplin ilmu yaitu ilmu-ilmu tentang elastisitas dan gempabumi. Dengan instalasi seismograf, link pemersatu antara kedua disiplin ilmu tersebut terwujut, dan gempabumi dapat dipelajari secara eksak. Ini telah mengubah seismologi menjadi sains, yang tidak hanya merupakan ilmu yang diskriptif alamiah, tetapi juga ilmu matematis-fisis. \n",
    "Sekarang adalah sama sulitnya untuk memahami seismologi tanpa seismograf  dengan astronomi tanpa teleskop. Sementara teleskop telah ada sekitar tahun 1600-an, seismogram yang pertama kali digunakan baru tercatat pada  tahun 1880, yaitu sejak tiga orang Inggris yaitu Gray, Milne, dan Ewing membuat seismograf di Jepang (khusus untuk gempa-gempa di Jepang). \n",
    "Setelah itu perkembangan pembuatan seismograf tumbuh dengan cepat, dan 2 seismologist mempublikasikan konstruksi seismograf yang mereka buat, yaitu Wiechert  (Jerman) pada tahun 1903 yang membuat seismograf mekanis dan Galitzin (Rusia) membuat seismograf elektromagnetik pada tahun 1911. Beberapa seismograf jenis awal masih banyak yang dioperasikan dan bekerja dengan baik, khususnya di Eropa tempat seismograf ini dikembangkan. Karena kecilnya magnifikasi seismograf ini, mereka masih mempunyai arti yang penting untuk merekam   kejadian gempa yang besar, yang kadang-kadang sudah diluar jangkauan seismograf modern yang biasanya mempunyai magnifikasi yang besar. \n",
    "Segera setelah studi seismogram yang pertama dihasilkan, identifikasi gelombang longitudinal dan transerval menjadi sangat jelas. Demikian juga dengan gelombang Rayleigh. Pada tahun 1890-an, Oldham di Inggris dan Wiechert di German secara terpisah mengemukakan  bahwa gelombang longitudinal, gelombang transerval dan gelombang permukaan ada pada seismogram.  Melalui penemuan ini link dengan teori elstisitas dibangun, dan  ini merupakan permulaan periode yang sangat berarti dalam seismologi. Pada periode ini banyak ditemukan permukaan diskontinyuitas di dalam bumi. Pada tahun 1913, Guttenberg mengkonfirmasikan bahwa kedalaman intibumi berdasar data seismogram adalah 2900 km. Pada tahun 1930-an, inti dalam diketemukan dan kedalamannya sekitar 5000 km. Penemuan lain yang terkenal adalah diskontinuitas dibawah kerak bumi. Ini ditemukan oleh Mohorovicic pada tahun 1909 dengan menggunakan rekaman seismik dari gempa bumi di Kroasia. Setelah itu permukaan ini dinamakan diskontinuitas Mohorovicic atau kependekannya, Moho. Adanya gempa dalam telah ditemukan oleh seismologist Inggris, Turner pada tahun 1922 dan seismologist Jepang, Wadati pada tahun 1928. Gempa ini mempunyai kedalaman sampai beberapa ratus km. Gempa yang paling dalam mencapai 720 km dijumpai di kepulauan Indonesia. Pada tahun 1954, Wadati dan Benioff dalam penelitiannya, yang antara lain menggunakan data gempa di bawah pulau Jawa mendapatkan dipping seismic zone (Wadati-Benioff zone) yang berhubungan dengan lempeng kerak bumi yang sedang menghunjam di bawah lempeng kerak yang lain pada daerah subduksi.\n",
    "Untuk selanjutnya, adalah suatu hal yang berat untuk menjadikan  seismologi sebagai ilmu yang populer. Tapi sejak perang dunia kedua, seismologi menjadi sangat berarti lagi karena dengan seismologi dimungkinkan untuk mendeteksi ledakan, khususnya ledakan nuklir. Oleh karena itu, khususnya di Amerika sejak tahun 1950-an  penelitian seismologi telah mendapatkan dukungan dana yang cukup besar dari pemerintah. Melalui proyek VELA nya, Amerika telah mengeluarkan dana yang sangat besar tidak hanya untuk dalam negeri, tapi juga dikompetisikan di luar negeri dengan terbuka dan bebas. Namun pada tahun 1970-an, proyek penelitian ini mulai diberhentikan dan dilanjutkan di dalam negeri dengan penelitian yang bersifat aplikasi. Di samping itu, UNESCO ternyata juga mempunyai ketertarikan yang sangat besar pada masalah gempabumi, karena bencana yang diakibatkannya. Untuk itu UNESCO telah banyak mengeluarkan dana di samping untuk mempelajari resiko gempa untuk manusia maupun bangunan di seluruh penjuru dunia, juga berusaha untuk mencari cara untuk mengurangi resiko tersebut (mitigasi). Dalam International Geophysical Year (IGY) pada tahun 1957-1958 telah diprakarsai kerjasama internasional terutama untuk memperbaiki jejaring observasi gempabumi, khususnya di belahan bumi Selatan, termasuk Antartika, dan menggiatkan kerjasama global dalam bidang seismologi. Selama tahun 1960-an, International Upper Mantle Project (UMP) telah memberikan sumbangan yang cukup berarti pula untuk mengatasi masalah besar dalam seismologi, antara lain menstimulasi kerja sama yang lebih erat antara cabang-cabang ilmu geofisika yang berbeda ataupun ilmu lain yang terkait. Setelah UMP berakhir  pada tahun 1970, International Geodynamics Project telah menggantikan menyediakan dana untuk kerja sama yang lebih luas, multi disiplin untuk memecahkan masalah-masalah utama dalam geofisika, geokimia, dan geologi.\n",
    "Akhirnya, kita dapat menyimpulkan perkembangan seismologi sebagaimana ilmu pengetahuan pada umumnya. Pada awalnya dengan pemikiran yang relatif sederhana bisa diperoleh hasil dengan ketepatan yang mengherankan. Tapi pada fase berikutnya, bila orang ingin memperbaiki hasil tersebut, banyak sekali problem akan dijumpai, yang memerlukan input yang relatif besar untuk output yang biasa saja. Ilustrasi hubungan antara output dan input dalam fase-fase perkembangan seismologi dapat dilihat pada gambar 1.1. Pada tahap awal yang dinyatakan sebagai fase A, dengan input yang relatif kecil dapat diperoleh output yang relatif besar. Tapi pada tahap berikutnya yaitu fase B, situasinya berbalik, yaitu dengan input yang besar diperoleh output yang kecil.\n"
   ]
  },
  {
   "cell_type": "code",
   "execution_count": null,
   "metadata": {},
   "outputs": [],
   "source": []
  }
 ],
 "metadata": {
  "kernelspec": {
   "display_name": "Python 3",
   "language": "python",
   "name": "python3"
  },
  "language_info": {
   "codemirror_mode": {
    "name": "ipython",
    "version": 3
   },
   "file_extension": ".py",
   "mimetype": "text/x-python",
   "name": "python",
   "nbconvert_exporter": "python",
   "pygments_lexer": "ipython3",
   "version": "3.7.0"
  }
 },
 "nbformat": 4,
 "nbformat_minor": 2
}
