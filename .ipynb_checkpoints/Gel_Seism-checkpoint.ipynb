{
 "cells": [
  {
   "cell_type": "markdown",
   "metadata": {},
   "source": [
    "# Gelombang Seismik\n",
    "\n",
    "Gelombang seismik adalah setiap getaran yang terekam di seismogram, kecuali alatnya tersenggol. Gelombang ini merupakan respon dari bumi akibat adanya sumber gempa berupa pergeseran patahan (rupture), atau ledakan atau gangguan lainnya. Misalnya getaran akibat kapal Costa Concordia di Italia yang menabrak karang dibawah ini.\n",
    "\n",
    "![](http://2.bp.blogspot.com/-vv5qVD3WL2c/Tx2ifOhGUzI/AAAAAAAAANg/AxDSdDRwnDk/s1600/Concordia_filtered.jpg)\n",
    "\n",
    "Cerita selengkapnya silahkan mengikuti tautan [ini](http://tersiscio.blogspot.com/2012/01/seismic-wake-of-costa-concordia.html)."
   ]
  },
  {
   "cell_type": "markdown",
   "metadata": {},
   "source": [
    "Gelombang seismik dibedakan menjadi 2 tipe utama, yaitu\n",
    "- Gelombang Badan (Body Waves)\n",
    "- Gelombang Permukaan (Surface Waves)"
   ]
  },
  {
   "cell_type": "markdown",
   "metadata": {},
   "source": [
    "# Gelombang Badan\n",
    "Merambat dibagian dalam \"tubuh\" bumi, yang terdiri ata 2 tipe penjalaran, yaitu\n",
    "1. Gelombang longitudinal, Gelombang-P (pressure wave)\n",
    "2. Gelombang transversal, Gelombang-S, (shear wave)"
   ]
  },
  {
   "cell_type": "markdown",
   "metadata": {},
   "source": [
    "# Gelombang Permukaan\n",
    "\n",
    "Merambat sepanjang permukaan bumi. Namun ingat bahwa berbicara bumi, maka permukaannya adalah kulit bumi atau kerak bumi. Jadi gelombang permukaan merambat di sepanjang kerak bumi dan sedikit di bagian atas mantel bumi."
   ]
  }
 ],
 "metadata": {
  "kernelspec": {
   "display_name": "",
   "name": ""
  },
  "language_info": {
   "name": ""
  }
 },
 "nbformat": 4,
 "nbformat_minor": 2
}
