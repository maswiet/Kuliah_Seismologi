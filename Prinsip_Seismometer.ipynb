{
 "cells": [
  {
   "cell_type": "markdown",
   "metadata": {},
   "source": [
    "# Prinsip Kerja Seismometer\n",
    "\n",
    "Akan dijelaskan secara tuntas dan jelas (semoga) bagaimana getaran tanah dapat dimonitor dengan alat yang peka terhadap getaran (sensor getaran/seismometer). Beberapa simulasi sederhana akan ditampilkan guna memberikan gambaran yang lebih visual dan jelas mengenai alat ini."
   ]
  },
  {
   "cell_type": "markdown",
   "metadata": {},
   "source": [
    "## Beberapa definisi\n",
    "1. **Seismograf** adalah instrument yang menghasilkan rekaman gerakan tanah secara terus menerus.\n",
    "2. **Seismogram** adalah rekaman gerakan tanah yang dihasilkan oleh seismograf.\n",
    "3. **Seismometer** adalah seismograf yang parameter-parameter fisisnya diketahui dengan baik sehingga gerakan tanah (simpangan terhadap titik setimbangnya) setiap saat dapat diukur (dengan teliti) harganya. Dalam seismograf elektromagnetik biasanya yang disebut seismometer adalah transduser atau sensor yang dipakai untuk mengubah sinyal getaran menjadi sinyal listrik yang terukur (dengan teliti), sedang yang dimaksud dengan seismograf adalah peralatan keseluruhan (termasuk seismometernya) yang merekam gerakan tanah.\n",
    "4. **Seismoskop** adalah alat (atau device) yang hanya dapat mengidentifikasikan terjadinya gempa.\n"
   ]
  },
  {
   "cell_type": "markdown",
   "metadata": {},
   "source": [
    "### Prinsip dasar seismometer\n",
    "\n",
    "Massa yang digantung dengan tali akan cenderung diam kalau penggantungnya bergetar secara horisontal bersama dengan tanah, karena massa mempunyai kelembaman. Dengan demikian sebuah pena yang terpasang pada massa tersebut akan dapat menggores kertas yang ikut bergetar bersama tanah. Kalau secara bersamaan kertas juga bergerak kesamping maka jejak gerakan tanah akan terekam pada kertas tersebut. Gambar 2.1.a.  akan lebih menjelaskan prinsip kerja seismometer untuk komponen horisontal ini.\n",
    "\n",
    "Hal serupa terjadi kalau massa digantung dengan pegas, yaitu bila penggantung bergetar secara vertikal bersama dengan tanah, maka massa juga akan cenderung diam, dan pena yang terpasang padanya juga dapat membuat jejak getaran tanah pada kertas yang juga bergetar bersama tanah (Gambar 2.1.b.). Maka sistem massa yang digantung dengan pegas, pada prinsipnya dapat dipakai untuk seismometer komponen vertikal. Dengan demikian prinsip dasar seismometer adalah ayunan massa atau pendulum (dapat dengan tali atau pegas)."
   ]
  },
  {
   "cell_type": "code",
   "execution_count": null,
   "metadata": {},
   "outputs": [],
   "source": []
  }
 ],
 "metadata": {
  "kernelspec": {
   "display_name": "Python 3",
   "language": "python",
   "name": "python3"
  },
  "language_info": {
   "codemirror_mode": {
    "name": "ipython",
    "version": 3
   },
   "file_extension": ".py",
   "mimetype": "text/x-python",
   "name": "python",
   "nbconvert_exporter": "python",
   "pygments_lexer": "ipython3",
   "version": "3.7.0"
  }
 },
 "nbformat": 4,
 "nbformat_minor": 2
}
