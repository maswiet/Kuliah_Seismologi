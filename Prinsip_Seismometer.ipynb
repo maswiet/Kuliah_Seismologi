{
 "cells": [
  {
   "cell_type": "markdown",
   "metadata": {},
   "source": [
    "# Prinsip Kerja Seismometer\n",
    "\n",
    "Akan dijelaskan secara tuntas dan jelas (semoga) bagaimana getaran tanah dapat dimonitor dengan alat yang peka terhadap getaran (sensor getaran/seismometer). Beberapa simulasi sederhana akan ditampilkan guna memberikan gambaran yang lebih visual dan jelas mengenai alat ini."
   ]
  },
  {
   "cell_type": "markdown",
   "metadata": {},
   "source": [
    "## Beberapa definisi\n",
    "1. **Seismograf** adalah instrument yang menghasilkan rekaman gerakan tanah secara terus menerus.\n",
    "2. **Seismogram** adalah rekaman gerakan tanah yang dihasilkan oleh seismograf.\n",
    "3. **Seismometer** adalah seismograf yang parameter-parameter fisisnya diketahui dengan baik sehingga gerakan tanah (simpangan terhadap titik setimbangnya) setiap saat dapat diukur (dengan teliti) harganya. Dalam seismograf elektromagnetik biasanya yang disebut seismometer adalah transduser atau sensor yang dipakai untuk mengubah sinyal getaran menjadi sinyal listrik yang terukur (dengan teliti), sedang yang dimaksud dengan seismograf adalah peralatan keseluruhan (termasuk seismometernya) yang merekam gerakan tanah.\n",
    "4. **Seismoskop** adalah alat (atau device) yang hanya dapat mengidentifikasikan terjadinya gempa.\n"
   ]
  },
  {
   "cell_type": "markdown",
   "metadata": {},
   "source": [
    "### Prinsip dasar seismometer\n",
    "\n",
    "Massa yang digantung dengan tali akan cenderung diam kalau penggantungnya bergetar secara horisontal bersama dengan tanah, karena massa mempunyai kelembaman. Dengan demikian sebuah pena yang terpasang pada massa tersebut akan dapat menggores kertas yang ikut bergetar bersama tanah. Kalau secara bersamaan kertas juga bergerak kesamping maka jejak gerakan tanah akan terekam pada kertas tersebut. Gambar 2.1.a.  akan lebih menjelaskan prinsip kerja seismometer untuk komponen horisontal ini.\n",
    "\n",
    "![pendulum](Gambar/pendulum.png)\n",
    "\n",
    "Hal serupa terjadi kalau massa digantung dengan pegas, yaitu bila penggantung bergetar secara vertikal bersama dengan tanah, maka massa juga akan cenderung diam, dan pena yang terpasang padanya juga dapat membuat jejak getaran tanah pada kertas yang juga bergetar bersama tanah (Gambar 2.1.b.). Maka sistem massa yang digantung dengan pegas, pada prinsipnya dapat dipakai untuk seismometer komponen vertikal. Dengan demikian prinsip dasar seismometer adalah ayunan massa atau pendulum (dapat dengan tali atau pegas)."
   ]
  },
  {
   "cell_type": "markdown",
   "metadata": {},
   "source": [
    "Secara prinsip, semua alat yang memakai prinsip pendulum seperti pada gambar diatas adalah Seismometer. Tentu saja ini penggambaran yang sangat dasar, karena ada beberapa masalah yang timbul dalam kasus ini, yaitu:\n",
    "1. Damping. Pendulum diatas tidak ada damping.\n",
    "2. Periode. Persamaan perioda pemdulum $T \\approx 2 \\pi \\sqrt{\\frac{l}{g}} $ maka seismometer dengan panjang tali pendek menjadi short period seismometer.\n",
    "3. Perbesaran. Getaran yang direkam dari pendulum diatas tidak ada perbesaran, sehingga tidak bisa dipakai mengamati gempa yang biasanya amplitudonya kecil."
   ]
  },
  {
   "cell_type": "markdown",
   "metadata": {},
   "source": [
    "Secara umum, gerakan partikel pada benda padat dibagi menjadi 3 macam, (1) Translasi (2) Rotasi dan (3) Deformasi (Strain). Umumnya seismometer yang kita kenal adalah menera gerak translasi saja. Padahal, dari pengamatan setelah kejadian gempa, banyak fenemena perpindahan benda yang sifatnya rotasional.\n",
    "\n",
    "![chimrot](https://pbs.twimg.com/media/DgZd8DWVAAAwx1x.jpg)\n",
    "### Seismometer translasional\n",
    "![seismo](https://www.passcal.nmt.edu/sites/default/files/webfm/passcal/webb/RER-17-1%20640x480.jpg)\n",
    "### Rotational Sensors\n",
    "![ringlaser](http://hpwren.ucsd.edu/news/images/050203-ring_laser.jpg)\n",
    "\n",
    "![eentec](http://www.eentec.com/Pictures/r1.jpg)\n",
    "\n",
    "### Strainmeter\n",
    "![strain](https://www.unavco.org/instrumentation/lib/images/lsm_schematic.jpg)"
   ]
  },
  {
   "cell_type": "markdown",
   "metadata": {},
   "source": [
    "### Seismic Sensor\n",
    "\n",
    "Seismometer saat ini sebagian besar mengukur gerak translasi dalam bentuk sinyal listrik, dalam satuan tegangan (Voltase). Gerakan translasi sendiri, ada 3 macam, yaitu displacement, velocity dan acceleration. \n",
    "\n",
    "![](Gambar/seismo.png)\n",
    "\n",
    "sistem tersebut, memiliki frekuensi natural, $f_0$ yang ditentukan oleh konstanta pegas, $k$ dan beban massa, $m$\n",
    "\n",
    "<img src=\"https://latex.codecogs.com/svg.latex?\\Large&space;f_0 = \\frac{1}{2 \\pi} \\sqrt{\\frac{k}{m}}\" title=\"fungsi e^x\" />"
   ]
  },
  {
   "cell_type": "markdown",
   "metadata": {},
   "source": [
    "Sensitivity dari sensor menjadi berkurang drastis jika frekuensi getaran di bawah frekuensi natural dari seismometer. Sensor getaran seperti ini ditentukan oleh 3 parameter, yaitu natural frekuensi, $f_0$, konstanta redaman, $h$, ($h$=1 sistem tidak bergetar) dan konstanta generator, $G (V/ms^{-1})$ yaitu mengukur sensitifitas koil terhadap kecepatan getaran tanahnya. Dengan ketiga parameter ini, response dari seismometer (hubungan antara input dan output sinyal) dapat dihitung.\n",
    "\n",
    "<img src=\"https://latex.codecogs.com/svg.latex?\\Large&space;A_d \\left( \\omega \\right)  = \\frac{G \\omega^3}{\\sqrt{\\left( \\omega_0^2 - \\omega^2 \\right)^2 + 4 h^2 \\omega^2 \\omega_0^2}}\" title= \"fungsi e^x\" />\n",
    "\n"
   ]
  },
  {
   "cell_type": "markdown",
   "metadata": {},
   "source": [
    "![freq](Gambar/freq_seis.png)"
   ]
  },
  {
   "cell_type": "markdown",
   "metadata": {},
   "source": [
    "Seismologist bekerja dengan data-data gempa dalam bentuk seismogram, yang merupakan hasil rekaman seismometer di permukaan. Berdasarkan hasil rekaman tersebut, diharapkan dapat menjawab beberapa pertanyaan berikut, diantaranya:\n",
    "- dimanakan sumber gempa itu berasal (lintang, bujur, kedalaman)?\n",
    "- bagaimanakah mekanismenya?\n",
    "- bagaimana gambaran bawah permukaan bumi yang dilalui oleh sinyal tersebut?\n",
    "\n",
    "Perlu diketahui, bahwa rekaman seismogram yang menjadi dasar dari analisis seismologi merupakan hasil interaksi kompleks antara sumber gempa, medium bumi, dan yang tidak kalah pentingnya adalah INSTRUMENTNYA itu sendiri !"
   ]
  },
  {
   "cell_type": "markdown",
   "metadata": {},
   "source": [
    "Gambar dibawah (Scherbaum, 2002) menunjukkan ilustrasi bagaimana intreraksi itu terjadi selama penjalaran gelombang seismik di dalam bumi dari sumber gempa menuju permukaan.\n",
    "\n",
    "![](Gambar/seismicpath.png)"
   ]
  },
  {
   "cell_type": "markdown",
   "metadata": {},
   "source": [
    "Perhatikan bahwa bentuk sinyal seismik akan mengalami perubahan selama proses penjalaran akibat dari interaksi gelombang dengan medium, baik amplitudonya maupun fase gelombangnya. Hal inilah yang menjadi tantangan terbesar dari seismologist, yaitu bagaimana memisahkan setiap interaksi tersebut, sehingga dapat menjawab beberapa pertanyaan diatas tadi.\n",
    "\n",
    "Kerumitan lain adalah bahwa ternyata, jenis seismometer sendiri juga berperan besar dalam mengubah bentuk sinyalnya. Perhatikan gambar di bawah ini.\n",
    "![](Gambar/seismicsig.png)"
   ]
  },
  {
   "cell_type": "markdown",
   "metadata": {},
   "source": [
    "Gambar diatas adalah rekaman gempabumi Izmit, Turki 17 Agustus 1999 komponen vertikal pada bebarapa seismometer yang dipasang di daerah Utara Norwegia pada lokasi yang sama. Urutan dari atas adalah :\n",
    "* seismometer [Wood-Anderson](http://www.eas.slu.edu/eqc/eqc_instruments/wood_and.html)\n",
    "* seismometer WWSSN-SP*)\n",
    "* seismometer WWSSN-LP*)\n",
    "\n",
    "*)Coba carilah apa singkatan dari WWSSN-LP/SP ya? \n",
    "\n",
    "Jadi jelas, tho, bahwa seismometer seolah semacam menjadi filter bagi sinyal hasil getaran gerakan tanah yang direkamnya. Perlu upaya tambahan agar kita dapat merekonstruksi sinyal rekaman seismometer ini menjadi representasi gerakan tanah yang sesungguhnya (*true ground motions*). Upaya tambahan ini dikenal dengan proses **Koreksi Instrument** atau kalau jaman dulu dikenal istilah **restitusi instrumen** (kaya pajak aja, ya).  Perhatikan ilustrasi dibawah ini\n",
    "\n",
    "![](Gambar/proses.png)"
   ]
  },
  {
   "cell_type": "markdown",
   "metadata": {},
   "source": [
    "Lantas, bagaimanakah hubungan antara seismogram dan gerakan tanah di permukaan bumi (*ground motions*)? Mari kita amati berdasarkan gambar dibawah ini:\n",
    "![](Gambar/seismodel.png)\n",
    "\n",
    "Sebuah seismometer bebasis pegas, terdiri dari masa, pegas dan hambatan untuk redaman/damping. Secara fisika, ada 2 kerangka acuan yang bekerja disitu, yaitu kerangka acuan seismometer dan kerangka acuan bumi. Masa beban digantung dengan pegas pada kerangka acuan seismometer, sementara gerakan tanahnya relatif terhadap kerangka acuan bumi. Pada saat bumi bergerak, maka gerakan masa/pegas bergerak relatif terhadap bumi dan kerangka acuan seismometernya .. jadi bingung tidak? he he he mbulet ya.  \n",
    "\n",
    "Untuk itu, gerakan masa relatif terhadap kerangka acuan yang diam, dapat dijelaskan dengan gerakan posisi masa pada kerangka acuan seismometer, $x_r(t), \\dot{x_r}(t), \\ddot{x_r}(t)$. Posisi masa relatif terhadap bumi dinyatakan dalam $u_m(t)$. Gerakan masa nantinya dikontrol oleh jumlahan gaya yang bekerja pada sistem tersebut, yaitu:\n",
    "\n",
    "- Gaya inersia dari masa relatif terhadap bumi, dirumuskan sebagai\n",
    "\n",
    "\n",
    "$f_i = -m \\ddot{u}_m(t) $\n",
    "\n",
    "- Gaya pegas $f_{sp}$\n",
    "\n",
    "$f_{sp} = -k x_r(t) $\n",
    "\n",
    "dengan $k$ adalah konstanta pegas, dan $x_r = x_m - x_0$\n",
    "\n",
    "- Gaya redaman, atau gaya gesekan $f_f$ yang sebanding dengan kecepatan $\\dot{x}_m(t)$\n",
    "\n",
    "$f_f = -D \\dot{x}_m(t) $\n",
    "\n",
    "dengan $D$ adalah gaya gesekan.\n"
   ]
  },
  {
   "cell_type": "markdown",
   "metadata": {},
   "source": [
    "Pada keadaan setimbang resultan gaya yang bekerja dapat dituliskan\n",
    "\n",
    "$-m \\ddot{u}_m(t)-D\\dot{x}_m(t)-kx_r(t)=0$\n",
    "\n",
    "Melihat gambar diatas (Fig 4.1) dapat dilihat bahwa $u_m(t)=u_g(t) + x_m(t)$, jadi persamaan diatas dapat dituliskan kembali\n",
    "\n",
    "$m \\ddot{x}_r(t)+D\\dot{x}_r(t)+kx_r(t)=-m\\ddot{u}_g(t)$\n",
    "\n",
    "Jika kita bagi dengan $m$, maka\n",
    "$\\ddot{x}_r(t)+\\frac{D}{m}\\dot{x}_r(t)+\\frac{k}{m}x_r(t)=-\\ddot{u}_g(t)$ atau disederhanakan menjadi\n",
    "\n",
    "$\\ddot{x}_r(t)+2 \\varepsilon \\dot{x}_r(t)+\\omega_0^2x_r(t)=-\\ddot{u}_g(t)$\n",
    "\n",
    "dengan $\\omega_0^2 = \\frac{k}{m}$, $2\\varepsilon = \\frac{D}{m}=2 h \\omega_0 . h = \\varepsilon / \\omega_0$ adalah konstanta redaman seismometer.\n",
    "\n",
    "Jika dikomputasikan dapat dilihat hasil sebagai berikut ..\n"
   ]
  },
  {
   "cell_type": "markdown",
   "metadata": {},
   "source": [
    "![](Gambar/sismo1.png)\n",
    "\n",
    "![](Gambar/sismo2.png)\n",
    "\n",
    "![](Gambar/sismo3.png)\n",
    "\n",
    "Cobalah buat analisis sederhana dari ketiga gambar diatas ..."
   ]
  },
  {
   "cell_type": "code",
   "execution_count": null,
   "metadata": {},
   "outputs": [],
   "source": []
  }
 ],
 "metadata": {
  "kernelspec": {
   "display_name": "Python 3",
   "language": "python",
   "name": "python3"
  },
  "language_info": {
   "codemirror_mode": {
    "name": "ipython",
    "version": 3
   },
   "file_extension": ".py",
   "mimetype": "text/x-python",
   "name": "python",
   "nbconvert_exporter": "python",
   "pygments_lexer": "ipython3",
   "version": "3.7.0"
  }
 },
 "nbformat": 4,
 "nbformat_minor": 2
}
