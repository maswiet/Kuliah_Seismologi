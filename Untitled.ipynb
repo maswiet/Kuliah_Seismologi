{
 "cells": [
  {
   "cell_type": "markdown",
   "metadata": {},
   "source": [
    "# Volcano Seismology\n",
    "\n",
    "*The subject of Volcanic Seismology is not only the most beautiful and spectacular, but also the most difficult to study all the subjects seismologists have encountered on Earth. This is because seismic sources in volcanoes involve dynamic motion of gas, fluid and solid, and propagation paths in volcanoes are usually extremely heterogeneous, anisotropic and absorptive, with irregular topographies and interfaces including cracks of all scales and orientations. Thus, volcanic seismology is the most challenging to seismologists requiring ingenuity in designing experiments nad interpreting observation* Keiiti Aki, 1982 from the Preface of Monograph \"Volcanic Seismology\" Springer-Verlag."
   ]
  },
  {
   "cell_type": "markdown",
   "metadata": {},
   "source": [
    "# Global volcano distribution\n",
    "![globalvolc](http://www.geocoops.com/uploads/2/4/5/3/24532387/5508510.png?801)"
   ]
  },
  {
   "cell_type": "markdown",
   "metadata": {},
   "source": [
    "# Lava dome\n",
    "\n",
    "![sthellens](https://upload.wikimedia.org/wikipedia/commons/thumb/a/a4/MSH06_aerial_crater_from_north_high_angle_09-12-06.jpg/800px-MSH06_aerial_crater_from_north_high_angle_09-12-06.jpg)"
   ]
  },
  {
   "cell_type": "markdown",
   "metadata": {},
   "source": [
    "# Hawaiian eruption\n",
    "\n",
    "![hawaii](http://honolulumagazine-images.dashdigital.com/kil_9.jpg?ver=1409972721)"
   ]
  },
  {
   "cell_type": "markdown",
   "metadata": {},
   "source": [
    "# Elements of volcano\n",
    "![elements](https://www.universetoday.com/wp-content/uploads/2009/04/Volcano_scheme.svg_.png)\n",
    "\n",
    "Cross-section of a stratovolcano: **1.** Magma chamber **2.** Bedrock **3.** Vent **4.** Base **5.** Sill **6.** Dike **7.** Layers of ash **8.** Flank **9.** Layers of lava **10.** Throat (Feeding conduit) **11.** Parasitic cone **12.** Lava flow **13.** Vent **14.** Crater **15.** Ash cloud. Credit: MesserWoland"
   ]
  },
  {
   "cell_type": "markdown",
   "metadata": {},
   "source": [
    "# Some terminology\n",
    "\n",
    "- Volcanic eruption is a process of material transport from the Earth's depths to the surface.\n",
    "- The magnitude of eruption is described by the Volcano Explosivity Index (VEI) --> combination of total volume of explosive product, cloud height, duration etc. and have grades from 0 to 8.\n",
    "- Depending on the state of stress and the content of magma, volcanic eruption have three main types:\n",
    "    1. Pelean\n",
    "    2. Vulcanian\n",
    "    3. Hawaiian\n",
    "- Fractures --> ruptures length less than 100 m. if more, then it is fault with 3 types, normal, thrust, and strike-slip\n",
    "- Earthquake focus or hypocenter: the site of initial radiation of seismic waves in the interior,  projection to the surface is epicenter\n",
    "- Seismic wave : body wave and surface wave\n",
    "\n",
    "![seismog](https://igppweb.ucsd.edu/~gabi/sio15/supps/seismogram.png)\n",
    "  "
   ]
  },
  {
   "cell_type": "markdown",
   "metadata": {},
   "source": [
    "## Some review about seismic monitoring on volcano\n",
    "\n",
    "- Review article by McNutt ([pdf](http://www.giseis.alaska.edu/input/steve/PUBS/mcnutt-1996-scarpa.PDF))\n",
    "- Typical Seismic signal on volcano by Minakami \n",
    "\n",
    "![minakami](Gambar/minakami.png)\n",
    "\n",
    "- Volcano Seismology by Kawakatsu and Yamamoto ([pdf](http://gachon.eri.u-tokyo.ac.jp/~hitosi/Projects/Aso2003-2006/Report2_kawakatsu.pdf))\n",
    "- Volcano Seismology by Joachim Wassermann ([pdf](http://gfzpublic.gfz-potsdam.de/pubman/item/escidoc:4013:4/component/escidoc:4014/Chapter_13_rev1.pdf))"
   ]
  },
  {
   "cell_type": "code",
   "execution_count": null,
   "metadata": {},
   "outputs": [],
   "source": []
  }
 ],
 "metadata": {
  "kernelspec": {
   "display_name": "Python 3",
   "language": "python",
   "name": "python3"
  },
  "language_info": {
   "codemirror_mode": {
    "name": "ipython",
    "version": 3
   },
   "file_extension": ".py",
   "mimetype": "text/x-python",
   "name": "python",
   "nbconvert_exporter": "python",
   "pygments_lexer": "ipython3",
   "version": "3.7.0"
  }
 },
 "nbformat": 4,
 "nbformat_minor": 2
}
