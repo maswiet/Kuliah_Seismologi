{
 "cells": [
  {
   "cell_type": "markdown",
   "metadata": {},
   "source": [
    "# Seismometer\n",
    "\n",
    "$ ax^2+bx+c=0 $"
   ]
  },
  {
   "cell_type": "markdown",
   "metadata": {},
   "source": [
    "Seismologist bekerja dengan data-data gempa dalam bentuk seismogram, yang merupakan hasil rekaman seismometer di permukaan. Berdasarkan hasil rekaman tersebut, diharapkan dapat menjawab beberapa pertanyaan berikut, diantaranya:\n",
    "- dimanakan sumber gempa itu berasal (lintang, bujur, kedalaman)?\n",
    "- bagaimanakah mekanismenya?\n",
    "- bagaimana gambaran bawah permukaan bumi yang dilalui oleh sinyal tersebut?\n",
    "\n",
    "Perlu diketahui, bahwa rekaman seismogram yang menjadi dasar dari analisis seismologi merupakan hasil interaksi kompleks antara sumber gempa, medium bumi, dan yang tidak kalah pentingnya adalah INSTRUMENTNYA itu sendiri !"
   ]
  },
  {
   "cell_type": "markdown",
   "metadata": {},
   "source": [
    "Gambar dibawah (Scherbaum, 2002) menunjukkan ilustrasi bagaimana intreraksi itu terjadi selama penjalaran gelombang seismik di dalam bumi dari sumber gempa menuju permukaan.\n",
    "\n",
    "![](Gambar/seismicpath.png)"
   ]
  },
  {
   "cell_type": "markdown",
   "metadata": {},
   "source": [
    "Perhatikan bahwa bentuk sinyal seismik akan mengalami perubahan selama proses penjalaran akibat dari interaksi gelombang dengan medium, baik amplitudonya maupun fase gelombangnya. Hal inilah yang menjadi tantangan terbesar dari seismologist, yaitu bagaimana memisahkan setiap interaksi tersebut, sehingga dapat menjawab beberapa pertanyaan diatas tadi.\n",
    "\n",
    "Kerumitan lain adalah bahwa ternyata, jenis seismometer sendiri juga berperan besar dalam mengubah bentuk sinyalnya. Perhatikan gambar di bawah ini.\n",
    "![](Gambar/seismicsig.png)"
   ]
  },
  {
   "cell_type": "markdown",
   "metadata": {},
   "source": [
    "Gambar diatas adalah rekaman gempabumi Izmit, Turki 17 Agustus 1999 komponen vertikal pada bebarapa seismometer yang dipasang di daerah Utara Norwegia pada lokasi yang sama. Urutan dari atas adalah :\n",
    "* seismometer [Wood-Anderson](http://www.eas.slu.edu/eqc/eqc_instruments/wood_and.html)\n",
    "* seismometer WWSSN-SP*)\n",
    "* seismometer WWSSN-LP*)\n",
    "\n",
    "*)Coba carilah apa singkatan dari WWSSN-LP/SP ya? \n",
    "\n",
    "Jadi jelas, tho, bahwa seismometer seolah semacam menjadi filter bagi sinyal hasil getaran gerakan tanah yang direkamnya. Perlu upaya tambahan agar kita dapat merekonstruksi sinyal rekaman seismometer ini menjadi representasi gerakan tanah yang sesungguhnya (*true ground motions*). Upaya tambahan ini dikenal dengan proses **Koreksi Instrument** atau kalau jaman dulu dikenal istilah **restitusi instrumen** (kaya pajak aja, ya).  Perhatikan ilustrasi dibawah ini\n",
    "\n",
    "![](Gambar/proses.png)"
   ]
  },
  {
   "cell_type": "markdown",
   "metadata": {},
   "source": [
    "Lantas, bagaimanakah hubungan antara seismogram dan gerakan tanah di permukaan bumi (*ground motions*)? Mari kita amati berdasarkan gambar dibawah ini:\n",
    "![](Gambar/seismodel.png)"
   ]
  },
  {
   "cell_type": "markdown",
   "metadata": {},
   "source": [
    "Sebuah seismometer bebasis pegas, terdiri dari masa, pegas dan hambatan untuk redaman/damping. Secara fisika, ada 2 kerangka acuan yang bekerja disitu, yaitu kerangka acuan seismometer dan kerangka acuan bumi. Masa beban digantung dengan pegas pada kerangka acuan seismometer, sementara gerakan tanahnya relatif terhadap kerangka acuan bumi. Pada saat bumi bergerak, maka gerakan masa/pegas bergerak relatif terhadap bumi dan kerangka acuan seismometernya .. jadi bingung tidak? he he he mbulet ya.  "
   ]
  },
  {
   "cell_type": "markdown",
   "metadata": {},
   "source": [
    "Untuk itu, gerakan masa relatif terhadap kerangka acuan yang diam, dapat dijelaskan dengan gerakan posisi masa pada kerangka acuan seismometer, $x_r(t), \\dot{x_r}(t), \\ddot{x_r}(t)$. Posisi masa relatif terhadap bumi dinyatakan dalam $u_m(t)$. Gerakan masa nantinya dikontrol oleh jumlahan gaya yang bekerja pada sistem tersebut, yaitu:"
   ]
  },
  {
   "cell_type": "markdown",
   "metadata": {},
   "source": [
    "- Gaya inersia dari masa relatif terhadap bumi, dirumuskan sebagai\n",
    "\n",
    "\n",
    "$f_i = -m \\ddot{u}_m(t) $\n",
    "\n",
    "- Gaya pegas $f_{sp}$\n",
    "\n",
    "$f_{sp} = -k x_r(t) $\n",
    "\n",
    "dengan $k$ adalah konstanta pegas, dan $x_r = x_m - x_0$\n",
    "\n",
    "- Gaya redaman, atau gaya gesekan $f_f$ yang sebanding dengan kecepatan $\\dot{x}_m(t)$\n",
    "\n",
    "$f_f = -D \\dot{x}_m(t) $\n",
    "\n",
    "dengan $D$ adalah gaya gesekan.\n"
   ]
  },
  {
   "cell_type": "markdown",
   "metadata": {},
   "source": [
    "Pada keadaan setimbang resultan gaya yang bekerja dapat dituliskan\n",
    "\n",
    "$-m \\ddot{u}_m(t)-D\\dot{x}_m(t)-kx_r(t)=0$\n",
    "\n",
    "Melihat gambar diatas (Fig 4.1) dapat dilihat bahwa $u_m(t)=u_g(t) + x_m(t)$, jadi persamaan diatas dapat dituliskan kembali\n",
    "\n",
    "$m \\ddot{x}_r(t)+D\\dot{x}_r(t)+kx_r(t)=-m\\ddot{u}_g(t)$\n",
    "\n",
    "Jika kita bagi dengan $m$, maka\n",
    "$\\ddot{x}_r(t)+\\frac{D}{m}\\dot{x}_r(t)+\\frac{k}{m}x_r(t)=-\\ddot{u}_g(t)$ atau disederhanakan menjadi\n",
    "\n",
    "$\\ddot{x}_r(t)+2 \\varepsilon \\dot{x}_r(t)+\\omega_0^2x_r(t)=-\\ddot{u}_g(t)$\n",
    "\n",
    "dengan $\\omega_0^2 = \\frac{k}{m}$, $2\\varepsilon = \\frac{D}{m}=2 h \\omega_0 . h = \\varepsilon / \\omega_0$ adalah konstanta redaman seismometer.\n",
    "\n",
    "Jika dikomputasikan dapat dilihat hasil sebagai berikut ..\n"
   ]
  },
  {
   "cell_type": "markdown",
   "metadata": {},
   "source": [
    "![](Gambar/sismo1.png)"
   ]
  },
  {
   "cell_type": "markdown",
   "metadata": {},
   "source": [
    "![](Gambar/sismo2.png)"
   ]
  },
  {
   "cell_type": "markdown",
   "metadata": {},
   "source": [
    "![](Gambar/sismo3.png)"
   ]
  },
  {
   "cell_type": "code",
   "execution_count": null,
   "metadata": {},
   "outputs": [],
   "source": []
  }
 ],
 "metadata": {
  "kernelspec": {
   "display_name": "Python 3",
   "language": "python",
   "name": "python3"
  },
  "language_info": {
   "codemirror_mode": {
    "name": "ipython",
    "version": 3
   },
   "file_extension": ".py",
   "mimetype": "text/x-python",
   "name": "python",
   "nbconvert_exporter": "python",
   "pygments_lexer": "ipython3",
   "version": "3.7.0"
  }
 },
 "nbformat": 4,
 "nbformat_minor": 2
}
