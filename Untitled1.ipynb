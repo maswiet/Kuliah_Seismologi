{
 "cells": [
  {
   "cell_type": "markdown",
   "metadata": {},
   "source": [
    "# List dalam Python\n",
    "\n",
    "Hari ini kita akan belajar tentang struktur data, yaitu kumpulan elemen-elemen penyusun data (bisa bilangan/angka, karakter atau struktur data yang lain) yang terstruktur berdasarkan aturan tertentu, misalnya dengan memberi urutan pada elemennya. Struktur data dasar di Python adalah urutan (sequence). Setiap elemen dari sebuah urutan sudah ditetapkan dinyatakan dengan nomer urut, sering disebut indeks. Indeks pertama adalah nol, indeks kedua adalah 1 dan seterusnya. "
   ]
  },
  {
   "cell_type": "markdown",
   "metadata": {},
   "source": [
    "Hal ini mungkin agak janggal, mengapa Python memakai indeks pertama dengan angka nol. Misalnya di MATLAB, kita tidak mengenal indeks nol dalam sebuah urutan proses. Seiring waktu kita akan terbiasa dengan kejanggalan ini, karena Python juga bisa mengurutkan dari akhir ke depan, dengan indeks negatif."
   ]
  },
  {
   "cell_type": "markdown",
   "metadata": {},
   "source": [
    "Ada 6 tipe urutan di Python, yaitu (1) Unicode strings, (2) buffer object, (3) xrange object, (4) strings, (5) list dan (6) tuple. Dua yang terakhir yang paling sering dipakai dalam praktek komputasi dengan Python, yaitu list dan tuple."
   ]
  },
  {
   "cell_type": "markdown",
   "metadata": {},
   "source": [
    "Bekerja dengan data berupa urutan sangat penting, juga di geofisika. Misalnya sebuah urutan di dalam database yang berisi nama orang dan usia. Cara meuliskan urutan di Python adalah sebagai berikut "
   ]
  },
  {
   "cell_type": "code",
   "execution_count": 5,
   "metadata": {},
   "outputs": [],
   "source": [
    "wiwit = ['wiwit suryanto', 45]\n",
    "haidar = ['haidar pramudito', 15]\n",
    "aziz = ['ahmad nur aziz', 12]"
   ]
  },
  {
   "cell_type": "markdown",
   "metadata": {},
   "source": [
    "Urutan dapat juga berisi urutan yang lain, misalnya:"
   ]
  },
  {
   "cell_type": "code",
   "execution_count": 7,
   "metadata": {},
   "outputs": [
    {
     "data": {
      "text/plain": [
       "[['wiwit suryanto', 45], ['haidar pramudito', 15], ['ahmad nur aziz', 12]]"
      ]
     },
     "execution_count": 7,
     "metadata": {},
     "output_type": "execute_result"
    }
   ],
   "source": [
    "database = [wiwit, haidar, aziz]\n",
    "database"
   ]
  },
  {
   "cell_type": "markdown",
   "metadata": {},
   "source": [
    "Catatan: Python memiliki sebuah notasi dasar dari sebuah stuktur data yang disebut dengan container, sembarang obyek yang dapat berisi obyek lainnya. Ada dua jenis kontainer, yaitu urutan (sequence) dan mapping (misalnya dictionaries). "
   ]
  },
  {
   "cell_type": "markdown",
   "metadata": {},
   "source": [
    "# Operasi dasar Sequence\n",
    "\n",
    "Beberapa diantaranya adalah: indexing, slicing, adding, multiplying dan checking for membership. Sebagai tambahan, di Python juga terdapat fungsi build-inj untuk menentukan panjang sequence, elemen terbesar dan terkecil dll.\n",
    "\n",
    "Semua elemen di dalam sequence memiliki nomer urut, dari nol dst. Kita dapat mengakses secara individu masing-masing elemen, misalnya:"
   ]
  },
  {
   "cell_type": "code",
   "execution_count": 9,
   "metadata": {},
   "outputs": [
    {
     "data": {
      "text/plain": [
       "'H'"
      ]
     },
     "execution_count": 9,
     "metadata": {},
     "output_type": "execute_result"
    }
   ],
   "source": [
    "sapa = 'Hallo, Mas'\n",
    "sapa[0]"
   ]
  },
  {
   "cell_type": "markdown",
   "metadata": {},
   "source": [
    "Cara diatas disebut dengan indexing. Jika kita memakai simbol negatif, Python mengindeks dari kanan, misalnya"
   ]
  },
  {
   "cell_type": "code",
   "execution_count": 10,
   "metadata": {},
   "outputs": [
    {
     "data": {
      "text/plain": [
       "'s'"
      ]
     },
     "execution_count": 10,
     "metadata": {},
     "output_type": "execute_result"
    }
   ],
   "source": [
    "sapa[-1]"
   ]
  },
  {
   "cell_type": "markdown",
   "metadata": {},
   "source": [
    "Pada fungsi yang meminta user memasukkan input berupa sequence melalui keyboard, kita bisa langsung mengindeksnya, misalnya:"
   ]
  },
  {
   "cell_type": "code",
   "execution_count": 13,
   "metadata": {},
   "outputs": [
    {
     "name": "stdin",
     "output_type": "stream",
     "text": [
      "Masukkan Tahun:  2005\n"
     ]
    }
   ],
   "source": [
    "keempat = input('Masukkan Tahun: ')[3]"
   ]
  },
  {
   "cell_type": "code",
   "execution_count": 14,
   "metadata": {},
   "outputs": [
    {
     "data": {
      "text/plain": [
       "'5'"
      ]
     },
     "execution_count": 14,
     "metadata": {},
     "output_type": "execute_result"
    }
   ],
   "source": [
    "keempat"
   ]
  },
  {
   "cell_type": "code",
   "execution_count": 15,
   "metadata": {},
   "outputs": [
    {
     "name": "stdin",
     "output_type": "stream",
     "text": [
      "Year:  2019\n",
      "Month (1-12):  3\n",
      "Day (1-31):  1\n"
     ]
    },
    {
     "name": "stdout",
     "output_type": "stream",
     "text": [
      "March 1st, 2019\n"
     ]
    }
   ],
   "source": [
    "# Source : Heltand, 2002\n",
    "# Print out a date, given year, month, and day as numbers\n",
    "months = [\n",
    "'January',\n",
    "'February',\n",
    "'March',\n",
    "'April',\n",
    "'May',\n",
    "'June',\n",
    "'July',\n",
    "'August',\n",
    "'September',\n",
    "'October',\n",
    "'November',\n",
    "'December'\n",
    "]\n",
    "# A list with one ending for each number from 1 to 31\n",
    "endings = ['st', 'nd', 'rd'] + 17 * ['th'] \\\n",
    "+ ['st', 'nd', 'rd'] + 7 * ['th'] \\\n",
    "+ ['st']\n",
    "\n",
    "year = input('Year: ')\n",
    "month = input('Month (1-12): ')\n",
    "day = input('Day (1-31): ')\n",
    "\n",
    "month_number = int(month)\n",
    "day_number = int(day)\n",
    "\n",
    "# Remember to subtract 1 from month and day to get a correct index\n",
    "month_name = months[month_number-1]\n",
    "ordinal = day + endings[day_number-1]\n",
    "print(month_name + ' ' + ordinal + ', ' + year)"
   ]
  },
  {
   "cell_type": "markdown",
   "metadata": {},
   "source": [
    "## Slicing\n",
    "\n",
    "Seperti indexing, untuk mengakses elemen-elemen secara individual, kita dapat memakai cara slicing untuk mengakses elemen pada range tertentu. Yaitu memakai dua indeks, dipisahkan dengan titik 2 (:), misalnya:"
   ]
  },
  {
   "cell_type": "code",
   "execution_count": 17,
   "metadata": {},
   "outputs": [
    {
     "data": {
      "text/plain": [
       "'http://www.python.org'"
      ]
     },
     "execution_count": 17,
     "metadata": {},
     "output_type": "execute_result"
    }
   ],
   "source": [
    "tag = '<a href=\"http://www.python.org\"> Python web site </a>'\n",
    "tag[9:30]"
   ]
  },
  {
   "cell_type": "code",
   "execution_count": 18,
   "metadata": {},
   "outputs": [
    {
     "data": {
      "text/plain": [
       "' Python web site '"
      ]
     },
     "execution_count": 18,
     "metadata": {},
     "output_type": "execute_result"
    }
   ],
   "source": [
    "tag[32:-4]"
   ]
  },
  {
   "cell_type": "markdown",
   "metadata": {},
   "source": [
    "**Perhatikan !**\n",
    "Pemilihan indeks awal dan akhir sangat penting untuk diperhatikan. \n",
    "- indeks pertama adalah elemen pertama yang ingin kita ikutkan\n",
    "- indeks terakhir adalah indeks dimana dia akan menjadi elemen pertama dari sequence setelah di slice! Perhatikan .."
   ]
  },
  {
   "cell_type": "code",
   "execution_count": 19,
   "metadata": {},
   "outputs": [
    {
     "data": {
      "text/plain": [
       "[4, 5, 6]"
      ]
     },
     "execution_count": 19,
     "metadata": {},
     "output_type": "execute_result"
    }
   ],
   "source": [
    "bilangan = [1,2,3,4,5,6,7,8,9,10]\n",
    "bilangan[3:6]"
   ]
  },
  {
   "cell_type": "code",
   "execution_count": 20,
   "metadata": {},
   "outputs": [
    {
     "data": {
      "text/plain": [
       "[1]"
      ]
     },
     "execution_count": 20,
     "metadata": {},
     "output_type": "execute_result"
    }
   ],
   "source": [
    "bilangan[0:1]"
   ]
  },
  {
   "cell_type": "markdown",
   "metadata": {},
   "source": [
    "Singkatnya, dua indeks itu yang pertama inklusif dan kedua eksklusif. \n",
    "\n",
    "Bagaimana jika kita akan mengakses elemen terakhir?"
   ]
  },
  {
   "cell_type": "code",
   "execution_count": 21,
   "metadata": {},
   "outputs": [
    {
     "data": {
      "text/plain": [
       "[8, 9, 10]"
      ]
     },
     "execution_count": 21,
     "metadata": {},
     "output_type": "execute_result"
    }
   ],
   "source": [
    "bilangan[7:10]"
   ]
  },
  {
   "cell_type": "markdown",
   "metadata": {},
   "source": [
    "Perhatikan bahwa indeks 10 merujuk pada elemen ke 11 yang tidak ada, namun nanti dialah yang akan menjadi first elemen andai kita membayangkan bahwa di belakangnya masih ada elemen bilangan selanjutnya. Semoga jelas, ya?\n",
    "\n",
    "Lantas bagaimana jika kita mau menghitung dari belakang?"
   ]
  },
  {
   "cell_type": "code",
   "execution_count": 22,
   "metadata": {},
   "outputs": [
    {
     "data": {
      "text/plain": [
       "[8, 9]"
      ]
     },
     "execution_count": 22,
     "metadata": {},
     "output_type": "execute_result"
    }
   ],
   "source": [
    "bilangan[-3:-1]"
   ]
  },
  {
   "cell_type": "markdown",
   "metadata": {},
   "source": [
    "Sepertinya kita tidak akan bisa mengakses elemen terakhir ya? Bagaimana jika kita memakai 0 sebagai elemen setelah elemen terakhir?"
   ]
  },
  {
   "cell_type": "code",
   "execution_count": 23,
   "metadata": {},
   "outputs": [
    {
     "data": {
      "text/plain": [
       "[]"
      ]
     },
     "execution_count": 23,
     "metadata": {},
     "output_type": "execute_result"
    }
   ],
   "source": [
    "bilangan[-3:0]"
   ]
  },
  {
   "cell_type": "markdown",
   "metadata": {},
   "source": [
    "Hal ini karena tidak bisa urutan meloncat, karena 0 adalah indeks pertama, sementara -3 indeks ke tiga dari belakang. Solusinya gampang, indeks terakhir kita kosongkan sebagai berikut:"
   ]
  },
  {
   "cell_type": "code",
   "execution_count": 24,
   "metadata": {},
   "outputs": [
    {
     "data": {
      "text/plain": [
       "[8, 9, 10]"
      ]
     },
     "execution_count": 24,
     "metadata": {},
     "output_type": "execute_result"
    }
   ],
   "source": [
    "bilangan[-3:]"
   ]
  },
  {
   "cell_type": "markdown",
   "metadata": {},
   "source": [
    "Ini berlaku juga dari depan, sebagai berikut:"
   ]
  },
  {
   "cell_type": "code",
   "execution_count": 26,
   "metadata": {},
   "outputs": [
    {
     "data": {
      "text/plain": [
       "[1, 2, 3]"
      ]
     },
     "execution_count": 26,
     "metadata": {},
     "output_type": "execute_result"
    }
   ],
   "source": [
    "bilangan[:3]"
   ]
  },
  {
   "cell_type": "code",
   "execution_count": 27,
   "metadata": {},
   "outputs": [
    {
     "data": {
      "text/plain": [
       "[1, 2, 3, 4, 5, 6, 7, 8, 9, 10]"
      ]
     },
     "execution_count": 27,
     "metadata": {},
     "output_type": "execute_result"
    }
   ],
   "source": [
    "bilangan[:]"
   ]
  },
  {
   "cell_type": "markdown",
   "metadata": {},
   "source": [
    "# Quiz:\n",
    "\n",
    "Coba split sebuah url dalam bentuk http://www.something.com untuk mengambil nama domainnya saja, yaitu \"something\""
   ]
  },
  {
   "cell_type": "code",
   "execution_count": 28,
   "metadata": {},
   "outputs": [
    {
     "name": "stdin",
     "output_type": "stream",
     "text": [
      "Masukkan URL nya:  http://www.wiwit.com\n"
     ]
    },
    {
     "name": "stdout",
     "output_type": "stream",
     "text": [
      "Nama domain: wiwit\n"
     ]
    }
   ],
   "source": []
  },
  {
   "cell_type": "code",
   "execution_count": null,
   "metadata": {},
   "outputs": [],
   "source": []
  }
 ],
 "metadata": {
  "kernelspec": {
   "display_name": "Python 3",
   "language": "python",
   "name": "python3"
  },
  "language_info": {
   "codemirror_mode": {
    "name": "ipython",
    "version": 3
   },
   "file_extension": ".py",
   "mimetype": "text/x-python",
   "name": "python",
   "nbconvert_exporter": "python",
   "pygments_lexer": "ipython3",
   "version": "3.7.0"
  }
 },
 "nbformat": 4,
 "nbformat_minor": 2
}
