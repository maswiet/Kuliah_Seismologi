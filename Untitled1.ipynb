{
 "cells": [
  {
   "cell_type": "markdown",
   "metadata": {},
   "source": [
    "# Seismometer\n",
    "\n",
    "$ ax^2+bx+c=0 $"
   ]
  },
  {
   "cell_type": "markdown",
   "metadata": {},
   "source": [
    "\\begin{align}\n",
    "    g &= \\int_a^b f(x)dx \\label{eq1}\\tag{1} \\\\\n",
    "    a &= bx^2 + cx + d \\label{eq2}\\tag{2}\n",
    "\\end{align}\n",
    "\n",
    "See (\\ref{eq1}) and (\\ref{eq2})"
   ]
  },
  {
   "cell_type": "markdown",
   "metadata": {},
   "source": [
    "Seismologist bekerja dengan data-data gempa dalam bentuk seismogram, yang merupakan hasil rekaman seismometer di permukaan. Berdasarkan hasil rekaman tersebut, diharapkan dapat menjawab beberapa pertanyaan berikut, diantaranya:\n",
    "- dimanakan sumber gempa itu berasal (lintang, bujur, kedalaman)?\n",
    "- bagaimanakah mekanismenya?\n",
    "- bagaimana gambaran bawah permukaan bumi yang dilalui oleh sinyal tersebut?\n",
    "\n",
    "Perlu diketahui, bahwa rekaman seismogram yang menjadi dasar dari analisis seismologi merupakan hasil interaksi kompleks antara sumber gempa, medium bumi, dan yang tidak kalah pentingnya adalah INSTRUMENTNYA itu sendiri !"
   ]
  },
  {
   "cell_type": "markdown",
   "metadata": {},
   "source": [
    "Gambar dibawah (Scherbaum, 2002) menunjukkan ilustrasi bagaimana intreraksi itu terjadi selama penjalaran gelombang seismik di dalam bumi dari sumber gempa menuju permukaan.\n",
    "\n",
    "![](Gambar/seismicpath.png)"
   ]
  },
  {
   "cell_type": "markdown",
   "metadata": {},
   "source": [
    "Perhatikan bahwa bentuk sinyal seismik akan mengalami perubahan selama proses penjalaran akibat dari interaksi gelombang dengan medium, baik amplitudonya maupun fase gelombangnya. Hal inilah yang menjadi tantangan terbesar dari seismologist, yaitu bagaimana memisahkan setiap interaksi tersebut, sehingga dapat menjawab beberapa pertanyaan diatas tadi.\n",
    "\n",
    "Kerumitan lain adalah bahwa ternyata, jenis seismometer sendiri juga berperan besar dalam mengubah bentuk sinyalnya. Perhatikan gambar di bawah ini.\n",
    "![](Gambar/seismicsig.png)"
   ]
  },
  {
   "cell_type": "markdown",
   "metadata": {},
   "source": [
    "Gambar diatas adalah rekaman gempabumi Izmit, Turki 17 Agustus 1999 komponen vertikal pada bebarapa seismometer yang dipasang di daerah Utara Norwegia pada lokasi yang sama. Urutan dari atas adalah :\n",
    "* seismometer [Wood-Anderson](http://www.eas.slu.edu/eqc/eqc_instruments/wood_and.html)\n",
    "* seismometer WWSSN-SP\n",
    "* seismometer WWSSN-LP\n",
    "\n",
    "Jadi jelas, tho, bahwa seismometer seolah semacam menjadi filter bagi sinyal hasil getaran gerakan tanah yang direkamnya. Perlu upaya tambahan agar kita dapat merekonstruksi sinyal rekaman seismometer ini menjadi representasi gerakan tanah yang sesungguhnya (*true ground motions*). Upaya tambahan ini dikenal dengan proses **Koreksi Instrument** atau kalau jaman dulu dikenal istilah **restitusi instrumen** (kaya pajak aja, ya).  Perhatikan ilustrasi dibawah ini\n",
    "\n",
    "![](Gambar/proses.png)"
   ]
  },
  {
   "cell_type": "code",
   "execution_count": null,
   "metadata": {},
   "outputs": [],
   "source": []
  }
 ],
 "metadata": {
  "kernelspec": {
   "display_name": "Python 3",
   "language": "python",
   "name": "python3"
  },
  "language_info": {
   "codemirror_mode": {
    "name": "ipython",
    "version": 3
   },
   "file_extension": ".py",
   "mimetype": "text/x-python",
   "name": "python",
   "nbconvert_exporter": "python",
   "pygments_lexer": "ipython3",
   "version": "3.6.4"
  }
 },
 "nbformat": 4,
 "nbformat_minor": 2
}
