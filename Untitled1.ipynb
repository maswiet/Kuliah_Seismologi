{
 "cells": [
  {
   "cell_type": "markdown",
   "metadata": {},
   "source": [
    "# Sejarah dan Wawasan Seismologi"
   ]
  },
  {
   "cell_type": "markdown",
   "metadata": {},
   "source": [
    "Dalam kuliah di minggu pertama ini, kami akan menjelaskan tentang sejarah dan wawasan mengenai seismologi. Mahasiswa diharapkan secara aktif dapat belajar untuk mengembangkan pengetahuan ini secara mandiri, melalui berbagai media informasi baik itu majalah ilmiah online semacam mesin pencari (google, bing, yahoo dll) yang dapat di set preferensinya khusus untuk mencari [berita tentang seismologi](https://www.bing.com/news/search?q=Seismology&qpvt=seismology+news&FORM=EWRE). Dari pengalaman ini diharapkan mahasiswa mendapat pengetahuan tentang manfaat seismologi dan perkembangannya, misalnya seismologi untuk membantu penyelamatan gajah dari perburuan liar, atau misalnya seismometer yang dapat terapung di laut.\n",
    "\n",
    "## Isi Perkuliahan\n",
    "\n",
    "Pada minggu pertama ini, akan dijelaskan meteri berikut:\n",
    "- Apakah Seismologi itu?\n",
    "- Perkembangan Teori Elastisitas\n",
    "- Pengamatan Gempabumi\n",
    "- Pengetahuan tentang interior bumi\n",
    "- Instalasi seismograf, Seismologi menjadi sebuah cabang ilmu\n",
    "\n",
    "## Apakah Seismologi itu?\n",
    "\n",
    "Sebagai bahan bacaan, Bab 1 dari buku *Introduction to seismology*, karangan Markus Bath, **Scope and History of Seismology**  dapat digunakan. Jika diperlukan, gunakan Google Translator untuk menerjemahkan ke dalam bahasa Indonesia, meskipun tidak sempurna. \n",
    "\n",
    "![chapter_1](./Gambar/translate_markus.png \"Logo Title Text 1\")\n"
   ]
  },
  {
   "cell_type": "markdown",
   "metadata": {},
   "source": [
    "Berdasarkan arti katanya, Seismologi berasal dari bahasa Yunani, yaitu *seismos* yang artinya gempabumi dan *logos* yaitu ilmu pengetahuan. Namun, meskipun dari arti kata tadi, seismologi dapat dimaknai sebagai ilmu tentang gempabumi, namun saat ini seismologi telah berkembang lebih luas, mancakup aspek instrumentasi, teknologi informasi, statistika seismologi, perambatan gelombang gempa serta interaksi dengan medium yang diantaranya dapat digunakan untuk mempelajari struktur bagian dalam bumi."
   ]
  },
  {
   "cell_type": "markdown",
   "metadata": {},
   "source": [
    "Bath mendefinisikan seismologi dalam 2 jalur, yaitu:\n",
    "1. Seismologi adalah Ilmu tentang gempabumi, termasuk mempelajari sifat fisika dari interior bumi (perambatan gelombang seismik melalui medium bumi)\n",
    "2. Seismologi sebagai ilmu yang mempelajari penjalaran gelombang elastik (gelombang seismik), meliputi sumbernya (gempa, ledakan, tumbukan meteor, dll), perambatan melalui interior bumi, dan perekaman datanya termasuk interpretasi seismogram.\n",
    "\n",
    "Seismologi sebagai sains umumnya bekerja dalam aspek gempabumi, atau seismologi gunungapi. Seismologi sebagai ilmu terapan, sangat populer digunakan untuk keperluan eksplorasi, dan berkembang cukup pesat dalam cabang ilmu *Exploration Seismology*"
   ]
  },
  {
   "cell_type": "markdown",
   "metadata": {},
   "source": [
    "Seismologi merupakan bagian dari Ilmu Geofisika, dimana Geofisika sendiri adalah penerapan ilmu fisika pada bumi, baik itu di bagian bumi yang padat (*solid earth*), lautan, atmosfer dan ionosfer. Khusus Program Studi Geofisika di Departemen Fisika UGM, mengkhususkan diri pada pembelajaran di bidang Geofisika Bumi Padat atau *solid earth geophysics*."
   ]
  },
  {
   "cell_type": "markdown",
   "metadata": {},
   "source": [
    "Solid Earth Geophysics terdiri dari bebarapa spesialisasi, diantaranya:\n",
    "1. Seismologi\n",
    "2. Vulkanologi (bagian dari ilmu Geologi juga): gunungapi, hot spring dll\n",
    "3. Geomagnetik : kemagnetan bumi, medan magnetik bumi dll\n",
    "4. Geoelektrik : sifat kelistrikan bumi\n",
    "5. Tektonofisika (bagian dari ilmu Geologi): Ilmu fisika yang diterapkan pada proses geologi\n",
    "6. Gravimetri  (bagian dari ilmu Geodesi): pengukuran gravitasi dan interpretasinya\n",
    "7. Geothermal : kondisi termperatur di dalam bumi\n",
    "8. Geokosmologi: asal usul bumi\n",
    "9. Geokronologi : dating dari peristiwa yang terjadi dalam kurun sejarah bumi"
   ]
  },
  {
   "cell_type": "markdown",
   "metadata": {},
   "source": [
    "Atau dalam pembagian bidang ilmu kebumian, yang ditunjukkan dalam gambar (Bath, 1979)\n",
    "![tabel bath](./Gambar/Bagan_Solid_earth.png \"Tabel Bath\")"
   ]
  },
  {
   "cell_type": "code",
   "execution_count": null,
   "metadata": {},
   "outputs": [],
   "source": []
  }
 ],
 "metadata": {
  "kernelspec": {
   "display_name": "Python 2",
   "language": "python",
   "name": "python2"
  },
  "language_info": {
   "codemirror_mode": {
    "name": "ipython",
    "version": 2
   },
   "file_extension": ".py",
   "mimetype": "text/x-python",
   "name": "python",
   "nbconvert_exporter": "python",
   "pygments_lexer": "ipython2",
   "version": "2.7.13"
  }
 },
 "nbformat": 4,
 "nbformat_minor": 2
}
