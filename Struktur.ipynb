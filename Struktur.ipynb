{
 "cells": [
  {
   "cell_type": "markdown",
   "metadata": {},
   "source": [
    "# Struktur Bumi dari Seismologi\n",
    "\n",
    "Perhatikan informasi di bawah ini, kemudian fikirkan bagaimana solusinya:\n",
    "\n",
    "The 2006 Yogyakarta earthquake of magnitude Mw=6,4, which destroyed many buildings in the Bantul and Yogyakarta area, occured at 05:54:00.00 local time or 22:54:00.00 UTC. The earthquake was casused by a sudden displacement of the Opak fault segment (See Figure2). The hypocenter was located 15 km below the surface\n",
    "\n",
    "![](Gambar/jogi.png)"
   ]
  },
  {
   "cell_type": "markdown",
   "metadata": {},
   "source": [
    "The seismic wave that propagates on the earth crust can be recorded using seismometer. The diagram from is seismometer is called the seismogram(Figure 2 and 3 , lower graph). The seismograms represent the vertical ground velocity motion as a function of time recorded by the seismic station at Gamping Yogyakarta (YOGI) (Fig2) and Denpasar, Bali (DNP) (Fig3). In general, seismic wave consists of three wave types, the logitudinal or primary (P-wave), the transversal or secondary (S-wave), and the surface wave. The P-wave and S-wave travel in the subsurface while the surface wave travels along the earth's surface. Seismic waves traveling through subsurfaces to the stations can be divided into those that propagate in a straight line, those that are reflected by a layer's boundary, and those that are refracted into the next layer. The longitudinal wave has the highest velocity, while the surface wave has the lowest velocity, about 60% of the P-wave."
   ]
  },
  {
   "cell_type": "markdown",
   "metadata": {},
   "source": [
    "![](Gambar/dnp.png)"
   ]
  },
  {
   "cell_type": "markdown",
   "metadata": {},
   "source": [
    "The distance between the epicenter (the projection of hypocenter on the Earth surface) and the YOGI and DNP station are 22.5 km and 500 km respectively. The depth of the crust layer in Java, Indonesia is 30 km. Beneath the earth's crust is the earth's mantle layer. The seimic wave propagate following the Snell's law just in optics.\n",
    "\n",
    "From the above informations, Please find the velocity of the P-wave in the earth's crust and the velocity in the earth's mantle."
   ]
  },
  {
   "cell_type": "code",
   "execution_count": null,
   "metadata": {},
   "outputs": [],
   "source": []
  }
 ],
 "metadata": {
  "kernelspec": {
   "display_name": "Python 2",
   "language": "python",
   "name": "python2"
  },
  "language_info": {
   "codemirror_mode": {
    "name": "ipython",
    "version": 2
   },
   "file_extension": ".py",
   "mimetype": "text/x-python",
   "name": "python",
   "nbconvert_exporter": "python",
   "pygments_lexer": "ipython2",
   "version": "2.7.15"
  }
 },
 "nbformat": 4,
 "nbformat_minor": 2
}
