{
 "cells": [
  {
   "cell_type": "markdown",
   "metadata": {},
   "source": [
    "# Sumber Gempabumi\n",
    "\n",
    "### Tujuan Pembelajaran\n",
    "\n",
    "Setelah mengikuti kuliah ini, diharapkan mahasiswa mampu:\n",
    "- Menjelaskan letak hiposenter di wilayah Indonesia dan Dunia\n",
    "- Menjelaskan hubungan antara letak hiposenter dan batas kerak bumi\n",
    "\n",
    "![](Gambar/stat.png)"
   ]
  },
  {
   "cell_type": "markdown",
   "metadata": {},
   "source": [
    "# Distribusi Gempabumi 2018\n",
    "\n",
    "![](Gambar/gemp.png)"
   ]
  },
  {
   "cell_type": "markdown",
   "metadata": {},
   "source": [
    "# Distribusi Gempa diJawa 2010-2018\n",
    "\n",
    "![](Gambar/gemp2.png)"
   ]
  },
  {
   "cell_type": "markdown",
   "metadata": {},
   "source": [
    "# Di Amerika 2018\n",
    "\n",
    "![](Gambar/gemp3.png)"
   ]
  },
  {
   "cell_type": "markdown",
   "metadata": {},
   "source": [
    "# Plate motions\n",
    "\n",
    "![](Gambar/plate.jpg)"
   ]
  },
  {
   "cell_type": "markdown",
   "metadata": {},
   "source": [
    "## Konsekuensi\n",
    "\n",
    "Akibat dari gerakan lempeng tersebut, maka secara kontinyu akan terakumulasi stress pada bagian yang mengalami interaksi, zona subduksi, ridge (pemekaran dasar samudera) atau transform fault yang memberi dampak pada lempeng bumi. Jika stressnya melebihi batas elastisitas batuan di dalam kerak bumi tersebut maka akan lahirlah gempabumi di sepanjang zona paling lemah disitu, yang disebut dengan bidang patahan. Akibatnya, batuan kerak akan mengalami perpindahan (displacement) setelah gempabumi, membentuk kesetimbangan baru. Energi strain bisa terlepas semua atau terlepas sebagian, dan ini menentukan kapan gempabumi selanjutnya akan terjadi, meskipun ada banyak faktor yang lain yang mempengaruhi.\n",
    "\n",
    "Bagian kerak bumi yang robek saat gempabumi, berawal dari sebuah titik, yang disebut dengan fokus atau hiposenter gempa.\n",
    "\n",
    "![](Gambar/stadisp.png)"
   ]
  },
  {
   "cell_type": "markdown",
   "metadata": {},
   "source": [
    "![](Gambar/lombok.jpg)"
   ]
  },
  {
   "cell_type": "markdown",
   "metadata": {},
   "source": [
    "![](Gambar/sumber.png)"
   ]
  },
  {
   "cell_type": "code",
   "execution_count": null,
   "metadata": {},
   "outputs": [],
   "source": []
  }
 ],
 "metadata": {
  "kernelspec": {
   "display_name": "Python 3",
   "language": "python",
   "name": "python3"
  },
  "language_info": {
   "codemirror_mode": {
    "name": "ipython",
    "version": 3
   },
   "file_extension": ".py",
   "mimetype": "text/x-python",
   "name": "python",
   "nbconvert_exporter": "python",
   "pygments_lexer": "ipython3",
   "version": "3.7.6"
  }
 },
 "nbformat": 4,
 "nbformat_minor": 2
}
